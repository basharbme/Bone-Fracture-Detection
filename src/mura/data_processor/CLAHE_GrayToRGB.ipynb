{
  "nbformat": 4,
  "nbformat_minor": 0,
  "metadata": {
    "colab": {
      "name": "CLAHE.ipynb",
      "provenance": [],
      "collapsed_sections": []
    },
    "kernelspec": {
      "name": "python3",
      "display_name": "Python 3"
    },
    "language_info": {
      "name": "python"
    }
  },
  "cells": [
    {
      "cell_type": "code",
      "metadata": {
        "colab": {
          "base_uri": "https://localhost:8080/"
        },
        "id": "OFJAm9iOf8U9",
        "outputId": "5a701eb5-7ef0-4bdc-e80a-b359d03d2e9b"
      },
      "source": [
        "% cd /content/drive/MyDrive/DAUGXray/"
      ],
      "execution_count": null,
      "outputs": [
        {
          "output_type": "stream",
          "text": [
            "/content/drive/MyDrive/DAUGXray\n"
          ],
          "name": "stdout"
        }
      ]
    },
    {
      "cell_type": "code",
      "metadata": {
        "id": "LMKcjBhWho1_"
      },
      "source": [
        "import os\n",
        "import shutil \n",
        "\n",
        "import numpy as np\n",
        "import cv2\n",
        "from PIL import Image\n",
        "import matplotlib.pyplot as plt"
      ],
      "execution_count": null,
      "outputs": []
    },
    {
      "cell_type": "code",
      "metadata": {
        "id": "iVDUTSgog7i_"
      },
      "source": [
        "MASK_FOLDER = \"/content/drive/MyDrive/DAUGXray/DataAug/yolact_train/\"\n",
        "IMAGE_FOLDER = \"/content/drive/MyDrive/DAUGXray/DataAug/mura/NEW_MURA_dataset/train/\"\n",
        "OUTPUT_FOLDER = \"/content/drive/MyDrive/DAUGXray/DataAug/clahe_train/\""
      ],
      "execution_count": null,
      "outputs": []
    },
    {
      "cell_type": "code",
      "metadata": {
        "colab": {
          "base_uri": "https://localhost:8080/",
          "height": 170
        },
        "id": "73M5Ze3RTzsP",
        "outputId": "f52ea8e7-7a9a-4d73-a457-40f281b7d354"
      },
      "source": [
        "mask_path = os.listdir(MASK_FOLDER)[0]\n",
        "mask = cv2.imread(os.path.join(MASK_FOLDER,mask_path))\n",
        "ret, mask_binary = cv2.threshold(mask,127,1,cv2.THRESH_BINARY)\n",
        "\n",
        "image = cv2.imread(os.path.join(IMAGE_FOLDER, mask_path[:-3]+\"png\"))\n",
        "\n",
        "\n",
        "output = image * mask_binary\n",
        "\n",
        "fig, (ax1, ax2) = plt.subplots(1, 2)\n",
        "fig.figure = (10, 10)\n",
        "ax1.imshow(image)\n",
        "ax1.set_title(\"Truoc khi remove background\")\n",
        "ax2.imshow(output)\n",
        "ax2.set_title(\"Sau khi remove background\")\n",
        "\n",
        "plt.show() \n",
        "\n",
        "shape = list(mask_binary.shape)\n",
        "val = []\n",
        "for x in list(mask_binary.reshape(shape[0]*shape[1]*shape[2], 1)):\n",
        "  val.append(*x)\n",
        "print(set(val)) \n",
        "\n",
        "shape = list(output.shape)\n",
        "val = []\n",
        "for x in list(output.reshape(shape[0]*shape[1]*shape[2], 1)):\n",
        "  val.append(*x)\n",
        "print(set(val)) \n"
      ],
      "execution_count": null,
      "outputs": [
        {
          "output_type": "display_data",
          "data": {
            "image/png": "[encoded data removed]",
            "text/plain": [
              "<Figure size 432x288 with 2 Axes>"
            ]
          },
          "metadata": {
            "tags": [],
            "needs_background": "light"
          }
        },
        {
          "output_type": "stream",
          "text": [
            "{0, 1}\n",
            "{0, 44, 45, 46, 47, 48, 49, 50, 51, 52, 53, 54, 55, 56, 57, 58, 59, 60, 61, 62, 63, 64, 65, 66, 67, 68, 69, 70, 71, 72, 73, 74, 75, 76, 77, 78, 79, 80, 81, 82, 83, 84, 85, 86, 87, 88, 89, 90, 91, 92, 93, 94, 95, 96}\n"
          ],
          "name": "stdout"
        }
      ]
    },
    {
      "cell_type": "code",
      "metadata": {
        "colab": {
          "base_uri": "https://localhost:8080/",
          "height": 163
        },
        "id": "ddm4-BH-UfG4",
        "outputId": "1a252737-1a66-4ab1-9efe-8fe8721a6c1a"
      },
      "source": [
        "clahe = cv2.createCLAHE(clipLimit=5, tileGridSize=(7, 7))\n",
        "\n",
        "gray = cv2.cvtColor(output, cv2.COLOR_BGR2GRAY)\n",
        "clahe_gray = clahe.apply(gray)\n",
        "bgr = cv2.cvtColor(clahe_gray, cv2.COLOR_GRAY2BGR)\n",
        "plt.imshow(bgr)\n",
        "plt.show()"
      ],
      "execution_count": null,
      "outputs": [
        {
          "output_type": "display_data",
          "data": {
            "image/png": "[encoded data removed]",
            "text/plain": [
              "<Figure size 432x288 with 1 Axes>"
            ]
          },
          "metadata": {
            "tags": [],
            "needs_background": "light"
          }
        }
      ]
    },
    {
      "cell_type": "code",
      "metadata": {
        "id": "l0CM-kiChkD9"
      },
      "source": [
        "def create_clahe_imageset(mask_folder = MASK_FOLDER, image_folder = IMAGE_FOLDER, output_folder= OUTPUT_FOLDER ,cl = 5.0, sz = 7):\n",
        "  clahe = cv2.createCLAHE(clipLimit= cl, tileGridSize=(sz, sz))\n",
        "  for path in os.listdir(mask_folder):\n",
        "    mask = cv2.imread(os.path.join(mask_folder, path))\n",
        "    ret, mask_binary = cv2.threshold(mask,127,1,cv2.THRESH_BINARY)\n",
        "\n",
        "    image = cv2.imread(os.path.join(image_folder, path[:-3]+\"png\"))\n",
        "\n",
        "    output = image * mask_binary\n",
        "    output = cv2.cvtColor(output, cv2.COLOR_BGR2GRAY)\n",
        "    output = clahe.apply(output)\n",
        "    output = cv2.cvtColor(output, cv2.COLOR_GRAY2BGR)\n",
        "\n",
        "    save_path = os.path.join(output_folder, path[:-3]+\"png\")\n",
        "    cv2.imwrite(save_path, output)\n",
        "\n",
        "    src_text_path = os.path.join(image_folder, path[:-3]+\"txt\")\n",
        "    des_text_path = os.path.join(output_folder, path[:-3]+\"txt\")\n",
        "    shutil.copy(src_text_path, des_text_path)\n",
        "\n",
        "  print (\"done\")"
      ],
      "execution_count": null,
      "outputs": []
    },
    {
      "cell_type": "code",
      "metadata": {
        "id": "JmyQTCl4jRDd"
      },
      "source": [
        "create_clahe_imageset()"
      ],
      "execution_count": null,
      "outputs": []
    },
    {
      "cell_type": "code",
      "metadata": {
        "id": "_y_I99ejWTAG",
        "colab": {
          "base_uri": "https://localhost:8080/"
        },
        "outputId": "8fe9f6ac-af61-4016-edf7-3b7d9c680c62"
      },
      "source": [
        "MASK_FOLDER = \"/content/drive/MyDrive/DAUGXray/DataAug/yolact_val/\"\n",
        "IMAGE_FOLDER = \"/content/drive/MyDrive/DAUGXray/DataAug/mura/NEW_MURA_dataset/test/\"\n",
        "OUTPUT_FOLDER = \"/content/drive/MyDrive/DAUGXray/DataAug/clahe_val/\"\n",
        "create_clahe_imageset(mask_folder = MASK_FOLDER, image_folder = IMAGE_FOLDER, output_folder= OUTPUT_FOLDER ,cl = 5.0, sz = 7)"
      ],
      "execution_count": null,
      "outputs": [
        {
          "output_type": "stream",
          "text": [
            "done\n"
          ],
          "name": "stdout"
        }
      ]
    },
    {
      "cell_type": "code",
      "metadata": {
        "id": "0Rkx74tXIKoc"
      },
      "source": [
        "print(len(os.listdir(\"/content/drive/MyDrive/DAUGXray/DataAug/image_train\")))"
      ],
      "execution_count": null,
      "outputs": []
    }
  ]
}