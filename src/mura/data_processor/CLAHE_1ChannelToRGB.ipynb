{
  "nbformat": 4,
  "nbformat_minor": 0,
  "metadata": {
    "colab": {
      "name": "CLAHE_1ChannelToRGB.ipynb",
      "provenance": [],
      "machine_shape": "hm"
    },
    "kernelspec": {
      "name": "python3",
      "display_name": "Python 3"
    },
    "language_info": {
      "name": "python"
    }
  },
  "cells": [
    {
      "cell_type": "code",
      "metadata": {
        "colab": {
          "base_uri": "https://localhost:8080/"
        },
        "id": "5d2veieOXDd3",
        "outputId": "613b6cb9-dbe7-4bde-9365-a5eafbe60c7c"
      },
      "source": [
        "from google.colab import drive\n",
        "drive.mount('/content/drive')"
      ],
      "execution_count": 1,
      "outputs": [
        {
          "output_type": "stream",
          "text": [
            "Mounted at /content/drive\n"
          ],
          "name": "stdout"
        }
      ]
    },
    {
      "cell_type": "code",
      "metadata": {
        "colab": {
          "base_uri": "https://localhost:8080/"
        },
        "id": "vJX7en6XXEYN",
        "outputId": "46919340-c77c-4fea-eb54-798ea6402db8"
      },
      "source": [
        "%cd /content/drive/MyDrive"
      ],
      "execution_count": 2,
      "outputs": [
        {
          "output_type": "stream",
          "text": [
            "/content/drive/MyDrive\n"
          ],
          "name": "stdout"
        }
      ]
    },
    {
      "cell_type": "code",
      "metadata": {
        "id": "Nu013kqjXoWn"
      },
      "source": [
        "import os\n",
        "import sys\n",
        "import cv2\n",
        "import matplotlib.pyplot as plt\n",
        "import numpy as np\n",
        "from tqdm import tqdm\n"
      ],
      "execution_count": 4,
      "outputs": []
    },
    {
      "cell_type": "code",
      "metadata": {
        "colab": {
          "base_uri": "https://localhost:8080/"
        },
        "id": "a71eU0WsXNDl",
        "outputId": "60d681c6-1ba4-44a3-ad19-510a1bbb5174"
      },
      "source": [
        "\n",
        "def clahe(image_dir='/content/drive/MyDrive/val',\n",
        "          mask_dir='/content/drive/MyDrive/yolact_val',\n",
        "          save_dir='/content/drive/MyDrive/clahe_1channel_val'):\n",
        "  if not os.path.isdir(save_dir):\n",
        "    os.mkdir(save_dir)\n",
        "\n",
        "  clahe_object = cv2.createCLAHE(clipLimit=5, tileGridSize=(7, 7))\n",
        "\n",
        "  for filename in tqdm(os.listdir(image_dir)):\n",
        "    if filename.endswith('txt'):\n",
        "      with open(os.path.join(image_dir, filename), 'r') as rf,\\\n",
        "       open(os.path.join(save_dir, filename), 'w') as wf:\n",
        "        data = rf.readlines()\n",
        "        wf.writelines(data)\n",
        "    else:\n",
        "      image_path = os.path.join(image_dir, filename)\n",
        "      mask_path = os.path.join(mask_dir, filename)\n",
        "      save_path = os.path.join(save_dir, filename)\n",
        "\n",
        "      image = cv2.imread(image_path, cv2.IMREAD_GRAYSCALE)\n",
        "      mask = cv2.imread(mask_path, cv2.IMREAD_GRAYSCALE)\n",
        "      mask[mask > 0] = 1\n",
        "\n",
        "      image = image * mask\n",
        "      image = clahe_object.apply(image)\n",
        "      \n",
        "      final_image = np.zeros((3, image.shape[0], image.shape[1]))\n",
        "      final_image[0] = image\n",
        "      final_image[1] = image\n",
        "      final_image[2] = image\n",
        "\n",
        "      cv2.imwrite(save_path, image)\n",
        "        \n",
        "\n",
        "clahe()"
      ],
      "execution_count": null,
      "outputs": [
        {
          "output_type": "stream",
          "text": [
            "100%|██████████| 3264/3264 [19:06<00:00,  2.85it/s]\n"
          ],
          "name": "stderr"
        }
      ]
    },
    {
      "cell_type": "code",
      "metadata": {
        "id": "H_YyYozuZOH6",
        "colab": {
          "base_uri": "https://localhost:8080/",
          "height": 286
        },
        "outputId": "87be5410-a52a-4f7f-fd09-224cb4cc3334"
      },
      "source": [
        "image = cv2.imread('/content/drive/MyDrive/train/finger2_patient03335_image2.png')\n",
        "plt.imshow(image)"
      ],
      "execution_count": 6,
      "outputs": [
        {
          "output_type": "execute_result",
          "data": {
            "text/plain": [
              "<matplotlib.image.AxesImage at 0x7f0194ecced0>"
            ]
          },
          "metadata": {
            "tags": []
          },
          "execution_count": 6
        },
        {
          "output_type": "display_data",
          "data": {
            "image/png": "[encoded data removed]",
            "text/plain": [
              "<Figure size 432x288 with 1 Axes>"
            ]
          },
          "metadata": {
            "tags": [],
            "needs_background": "light"
          }
        }
      ]
    },
    {
      "cell_type": "code",
      "metadata": {
        "colab": {
          "base_uri": "https://localhost:8080/",
          "height": 286
        },
        "id": "aeK8qhExD0Ae",
        "outputId": "5e287c56-80e0-4b00-f901-5b23bbc8dc6d"
      },
      "source": [
        "image = cv2.imread('/content/drive/MyDrive/clahe_1channel_train/finger2_patient03335_image2.png')\n",
        "plt.imshow(image)"
      ],
      "execution_count": 7,
      "outputs": [
        {
          "output_type": "execute_result",
          "data": {
            "text/plain": [
              "<matplotlib.image.AxesImage at 0x7f01948cad90>"
            ]
          },
          "metadata": {
            "tags": []
          },
          "execution_count": 7
        },
        {
          "output_type": "display_data",
          "data": {
            "image/png": "[encoded data removed]",
            "text/plain": [
              "<Figure size 432x288 with 1 Axes>"
            ]
          },
          "metadata": {
            "tags": [],
            "needs_background": "light"
          }
        }
      ]
    },
    {
      "cell_type": "code",
      "metadata": {
        "id": "swKS2Na1Evz_"
      },
      "source": [
        ""
      ],
      "execution_count": null,
      "outputs": []
    }
  ]
}