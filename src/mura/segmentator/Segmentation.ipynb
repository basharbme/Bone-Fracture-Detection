{
  "nbformat": 4,
  "nbformat_minor": 0,
  "metadata": {
    "colab": {
      "name": "Segmentation.ipynb",
      "provenance": [],
      "collapsed_sections": []
    },
    "kernelspec": {
      "name": "python3",
      "display_name": "Python 3"
    },
    "language_info": {
      "name": "python"
    },
    "accelerator": "GPU"
  },
  "cells": [
    {
      "cell_type": "code",
      "metadata": {
        "colab": {
          "base_uri": "https://localhost:8080/"
        },
        "id": "hkj7NUeYW9bj",
        "outputId": "98b8c4c1-e61e-4729-af84-7a61b9c3015f"
      },
      "source": [
        "from google.colab import drive \n",
        "drive.mount('/content/gdrive')\n",
        "%cd /content/gdrive/MyDrive/Data Augmentation-XrayImg"
      ],
      "execution_count": null,
      "outputs": [
        {
          "output_type": "stream",
          "text": [
            "Mounted at /content/gdrive\n",
            "/content/gdrive/MyDrive/Data Augmentation-XrayImg\n"
          ],
          "name": "stdout"
        }
      ]
    },
    {
      "cell_type": "code",
      "metadata": {
        "id": "0O3V-iTqXKld"
      },
      "source": [
        "#!unzip XRAYBoneDataset.zip"
      ],
      "execution_count": null,
      "outputs": []
    },
    {
      "cell_type": "markdown",
      "metadata": {
        "id": "m_OmXtTxXOub"
      },
      "source": [
        "#0. Setup"
      ]
    },
    {
      "cell_type": "code",
      "metadata": {
        "id": "Cj5Zclg9XNNy"
      },
      "source": [
        "!pip install mmcv-full -f https://download.openmmlab.com/mmcv/dist/{cu_version}/{torch_version}/index.html"
      ],
      "execution_count": null,
      "outputs": []
    },
    {
      "cell_type": "code",
      "metadata": {
        "id": "b4glmb2JXeu8"
      },
      "source": [
        "!git clone https://github.com/open-mmlab/mmdetection.git\n",
        "%cd mmdetection\n",
        "!pip install -r requirementsa/build.txt\n",
        "!pip install -v -e .\n",
        "!mkdir checkpoints/ "
      ],
      "execution_count": null,
      "outputs": []
    },
    {
      "cell_type": "code",
      "metadata": {
        "id": "5LkM20GSXzbr"
      },
      "source": [
        "import torch\n",
        "import torchvision\n",
        "from torch.utils.data import Dataset\n",
        "import os\n",
        "import glob\n",
        "import cv2\n",
        "import matplotlib.pyplot as plt\n",
        "import json\n",
        "from tqdm import tqdm\n",
        "from matplotlib import patches\n",
        "import numpy as np \n",
        "import mmcv"
      ],
      "execution_count": null,
      "outputs": []
    },
    {
      "cell_type": "code",
      "metadata": {
        "id": "m7D7Skb9YMDH"
      },
      "source": [
        "train_annotations_path='../XRAYBoneDataset/annotations/instances_train.json'\n",
        "val_annotations_path='../XRAYBoneDataset/annotations/instances_val.json'\n",
        "test_annotations_path='../XRAYBoneDataset/annotations/instances_test.json'\n",
        "\n",
        "train_images_path='../XRAYBoneDataset/train'\n",
        "val_images_path='../XRAYBoneDataset/val'\n",
        "test_images_path='../XRAYBoneDataset/test'\n",
        "\n",
        "EPOCH_N=50\n",
        "BATCH_SIZE=32\n"
      ],
      "execution_count": null,
      "outputs": []
    },
    {
      "cell_type": "markdown",
      "metadata": {
        "id": "3z--gCcvYOBJ"
      },
      "source": [
        "# 1. Utils"
      ]
    },
    {
      "cell_type": "code",
      "metadata": {
        "id": "Lbvn1vS5YQv8"
      },
      "source": [
        "def read_json(path):\n",
        "  with open(path,'r') as f:\n",
        "    data=json.load(f)\n",
        "  return data\n",
        "\n",
        "\n",
        "def save_json(path,data):\n",
        "  with open(path,'w') as f:\n",
        "    json.dump(data,f,indent=4)\n",
        "    "
      ],
      "execution_count": null,
      "outputs": []
    },
    {
      "cell_type": "code",
      "metadata": {
        "colab": {
          "base_uri": "https://localhost:8080/"
        },
        "id": "uXSP6wUdYSE4",
        "outputId": "44b5175a-04f8-4c33-fb19-3211abc40c1a"
      },
      "source": [
        "data=read_json(train_annotations_path)"
      ],
      "execution_count": null,
      "outputs": [
        {
          "output_type": "stream",
          "text": [
            "/content/gdrive/MyDrive/Data Augmentation-XrayImg/mmdetection\n"
          ],
          "name": "stdout"
        }
      ]
    },
    {
      "cell_type": "code",
      "metadata": {
        "colab": {
          "base_uri": "https://localhost:8080/"
        },
        "id": "6n9KRzxOcjeU",
        "outputId": "ad84f53c-9c4d-4139-ee8e-bf6b6a985df1"
      },
      "source": [
        "print(data['categories'])"
      ],
      "execution_count": null,
      "outputs": [
        {
          "output_type": "stream",
          "text": [
            "[{'supercategory': None, 'id': 0, 'name': '_background_'}, {'supercategory': None, 'id': 1, 'name': 'bone'}]\n"
          ],
          "name": "stdout"
        }
      ]
    },
    {
      "cell_type": "markdown",
      "metadata": {
        "id": "yBDu6i-ghSXy"
      },
      "source": [
        "# 2. Train"
      ]
    },
    {
      "cell_type": "code",
      "metadata": {
        "id": "JHErENtehT09"
      },
      "source": [
        "!wget -P ./checkpoints/ http://download.openmmlab.com/mmdetection/v2.0/mask_rcnn/mask_rcnn_r50_caffe_fpn_mstrain-poly_3x_coco/mask_rcnn_r50_caffe_fpn_mstrain-poly_3x_coco_bbox_mAP-0.408__segm_mAP-0.37_20200504_163245-42aa3d00.pth"
      ],
      "execution_count": null,
      "outputs": []
    },
    {
      "cell_type": "code",
      "metadata": {
        "id": "sM5aO3p6eyYn"
      },
      "source": [
        "# TRAIN\n",
        "!python3 ./tools/train.py ../train_xray_segm.py"
      ],
      "execution_count": null,
      "outputs": []
    },
    {
      "cell_type": "code",
      "metadata": {
        "id": "5m28NndThrn5"
      },
      "source": [
        "#TEST\n",
        "!python3 ./tools/test.py ../train_xray_segm.py ./work_dirs/train_xray_segm/latest.pth --eval bbox segm"
      ],
      "execution_count": null,
      "outputs": []
    },
    {
      "cell_type": "code",
      "metadata": {
        "id": "g5-SbA8KjfXX",
        "colab": {
          "base_uri": "https://localhost:8080/",
          "height": 341
        },
        "outputId": "f10d6d91-8112-48d6-b05d-b27c524dadee"
      },
      "source": [
        "# demo img\n",
        "%matplotlib inline\n",
        "config_file = '../train_xray_segm.py'\n",
        "checkpoint_file = './work_dirs/train_xray_segm/latest.pth'\n",
        "device = 'cuda:0'\n",
        "\n",
        "# init a detector\n",
        "model = init_detector(config_file, checkpoint_file, device=device)\n",
        "\n",
        "# inference the demo image\n",
        "image_paths = glob.glob('/content/gdrive/MyDrive/Data Augmentation-XrayImg/XRAYBoneDataset/test/JPEGImages/*.jpg')\n",
        "path = next(iter(image_paths))\n",
        "result=inference_detector(model, path)\n",
        "img=cv2.imread(path)\n",
        "\n",
        "plt.figure(figsize=(40, 40))  # create a plot figure\n",
        "\n",
        "# create the first of two panels and set current axis\n",
        "plt.subplot(1, 2, 1) # (rows, columns, panel number)\n",
        "plt.imshow(img)\n",
        "\n",
        "# create the second panel and set current axis\n",
        "plt.subplot(1, 2, 2)\n",
        "plt.imshow(model.show_result(img, result));\n",
        "plt.show()"
      ],
      "execution_count": 50,
      "outputs": [
        {
          "output_type": "stream",
          "text": [
            "Use load_from_local loader\n"
          ],
          "name": "stdout"
        },
        {
          "output_type": "stream",
          "text": [
            "/content/gdrive/My Drive/Data Augmentation-XrayImg/mmdetection/mmdet/datasets/utils.py:68: UserWarning: \"ImageToTensor\" pipeline is replaced by \"DefaultFormatBundle\" for batch inference. It is recommended to manually replace it in the test data pipeline in your config file.\n",
            "  'data pipeline in your config file.', UserWarning)\n"
          ],
          "name": "stderr"
        },
        {
          "output_type": "display_data",
          "data": {
            "image/png": "[encoded data removed]",
            "text/plain": [
              "<Figure size 432x288 with 1 Axes>"
            ]
          },
          "metadata": {
            "tags": [],
            "needs_background": "light"
          }
        }
      ]
    }
  ]
}