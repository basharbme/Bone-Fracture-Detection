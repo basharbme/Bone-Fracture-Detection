{
  "nbformat": 4,
  "nbformat_minor": 0,
  "metadata": {
    "accelerator": "GPU",
    "colab": {
      "name": "Deeplabv3_Resnet101.ipynb",
      "provenance": [],
      "collapsed_sections": []
    },
    "kernelspec": {
      "display_name": "Python 3",
      "name": "python3"
    },
    "language_info": {
      "name": "python"
    },
    "widgets": {
      "application/vnd.jupyter.widget-state+json": {
        "a65a4b4b25ee4ee3a8dff19572b41521": {
          "model_module": "@jupyter-widgets/controls",
          "model_name": "HBoxModel",
          "state": {
            "_view_name": "HBoxView",
            "_dom_classes": [],
            "_model_name": "HBoxModel",
            "_view_module": "@jupyter-widgets/controls",
            "_model_module_version": "1.5.0",
            "_view_count": null,
            "_view_module_version": "1.5.0",
            "box_style": "",
            "layout": "IPY_MODEL_f0ca65c152394805b12693530299ee3f",
            "_model_module": "@jupyter-widgets/controls",
            "children": [
              "IPY_MODEL_8e576a6d3005478fa518832c5da175ec",
              "IPY_MODEL_0845d449afb645c09c48e1a9138c6201"
            ]
          }
        },
        "f0ca65c152394805b12693530299ee3f": {
          "model_module": "@jupyter-widgets/base",
          "model_name": "LayoutModel",
          "state": {
            "_view_name": "LayoutView",
            "grid_template_rows": null,
            "right": null,
            "justify_content": null,
            "_view_module": "@jupyter-widgets/base",
            "overflow": null,
            "_model_module_version": "1.2.0",
            "_view_count": null,
            "flex_flow": null,
            "width": null,
            "min_width": null,
            "border": null,
            "align_items": null,
            "bottom": null,
            "_model_module": "@jupyter-widgets/base",
            "top": null,
            "grid_column": null,
            "overflow_y": null,
            "overflow_x": null,
            "grid_auto_flow": null,
            "grid_area": null,
            "grid_template_columns": null,
            "flex": null,
            "_model_name": "LayoutModel",
            "justify_items": null,
            "grid_row": null,
            "max_height": null,
            "align_content": null,
            "visibility": null,
            "align_self": null,
            "height": null,
            "min_height": null,
            "padding": null,
            "grid_auto_rows": null,
            "grid_gap": null,
            "max_width": null,
            "order": null,
            "_view_module_version": "1.2.0",
            "grid_template_areas": null,
            "object_position": null,
            "object_fit": null,
            "grid_auto_columns": null,
            "margin": null,
            "display": null,
            "left": null
          }
        },
        "8e576a6d3005478fa518832c5da175ec": {
          "model_module": "@jupyter-widgets/controls",
          "model_name": "FloatProgressModel",
          "state": {
            "_view_name": "ProgressView",
            "style": "IPY_MODEL_f521c259993d427893084ffdc167817a",
            "_dom_classes": [],
            "description": "100%",
            "_model_name": "FloatProgressModel",
            "bar_style": "success",
            "max": 244545539,
            "_view_module": "@jupyter-widgets/controls",
            "_model_module_version": "1.5.0",
            "value": 244545539,
            "_view_count": null,
            "_view_module_version": "1.5.0",
            "orientation": "horizontal",
            "min": 0,
            "description_tooltip": null,
            "_model_module": "@jupyter-widgets/controls",
            "layout": "IPY_MODEL_23d720c91d49424bafcf62bffd6ffbf3"
          }
        },
        "0845d449afb645c09c48e1a9138c6201": {
          "model_module": "@jupyter-widgets/controls",
          "model_name": "HTMLModel",
          "state": {
            "_view_name": "HTMLView",
            "style": "IPY_MODEL_2f18756f0d664cc9b02e92635c2dd7ff",
            "_dom_classes": [],
            "description": "",
            "_model_name": "HTMLModel",
            "placeholder": "​",
            "_view_module": "@jupyter-widgets/controls",
            "_model_module_version": "1.5.0",
            "value": " 233M/233M [00:02&lt;00:00, 85.9MB/s]",
            "_view_count": null,
            "_view_module_version": "1.5.0",
            "description_tooltip": null,
            "_model_module": "@jupyter-widgets/controls",
            "layout": "IPY_MODEL_a3807945598848f2b1383cda77e2167e"
          }
        },
        "f521c259993d427893084ffdc167817a": {
          "model_module": "@jupyter-widgets/controls",
          "model_name": "ProgressStyleModel",
          "state": {
            "_view_name": "StyleView",
            "_model_name": "ProgressStyleModel",
            "description_width": "initial",
            "_view_module": "@jupyter-widgets/base",
            "_model_module_version": "1.5.0",
            "_view_count": null,
            "_view_module_version": "1.2.0",
            "bar_color": null,
            "_model_module": "@jupyter-widgets/controls"
          }
        },
        "23d720c91d49424bafcf62bffd6ffbf3": {
          "model_module": "@jupyter-widgets/base",
          "model_name": "LayoutModel",
          "state": {
            "_view_name": "LayoutView",
            "grid_template_rows": null,
            "right": null,
            "justify_content": null,
            "_view_module": "@jupyter-widgets/base",
            "overflow": null,
            "_model_module_version": "1.2.0",
            "_view_count": null,
            "flex_flow": null,
            "width": null,
            "min_width": null,
            "border": null,
            "align_items": null,
            "bottom": null,
            "_model_module": "@jupyter-widgets/base",
            "top": null,
            "grid_column": null,
            "overflow_y": null,
            "overflow_x": null,
            "grid_auto_flow": null,
            "grid_area": null,
            "grid_template_columns": null,
            "flex": null,
            "_model_name": "LayoutModel",
            "justify_items": null,
            "grid_row": null,
            "max_height": null,
            "align_content": null,
            "visibility": null,
            "align_self": null,
            "height": null,
            "min_height": null,
            "padding": null,
            "grid_auto_rows": null,
            "grid_gap": null,
            "max_width": null,
            "order": null,
            "_view_module_version": "1.2.0",
            "grid_template_areas": null,
            "object_position": null,
            "object_fit": null,
            "grid_auto_columns": null,
            "margin": null,
            "display": null,
            "left": null
          }
        },
        "2f18756f0d664cc9b02e92635c2dd7ff": {
          "model_module": "@jupyter-widgets/controls",
          "model_name": "DescriptionStyleModel",
          "state": {
            "_view_name": "StyleView",
            "_model_name": "DescriptionStyleModel",
            "description_width": "",
            "_view_module": "@jupyter-widgets/base",
            "_model_module_version": "1.5.0",
            "_view_count": null,
            "_view_module_version": "1.2.0",
            "_model_module": "@jupyter-widgets/controls"
          }
        },
        "a3807945598848f2b1383cda77e2167e": {
          "model_module": "@jupyter-widgets/base",
          "model_name": "LayoutModel",
          "state": {
            "_view_name": "LayoutView",
            "grid_template_rows": null,
            "right": null,
            "justify_content": null,
            "_view_module": "@jupyter-widgets/base",
            "overflow": null,
            "_model_module_version": "1.2.0",
            "_view_count": null,
            "flex_flow": null,
            "width": null,
            "min_width": null,
            "border": null,
            "align_items": null,
            "bottom": null,
            "_model_module": "@jupyter-widgets/base",
            "top": null,
            "grid_column": null,
            "overflow_y": null,
            "overflow_x": null,
            "grid_auto_flow": null,
            "grid_area": null,
            "grid_template_columns": null,
            "flex": null,
            "_model_name": "LayoutModel",
            "justify_items": null,
            "grid_row": null,
            "max_height": null,
            "align_content": null,
            "visibility": null,
            "align_self": null,
            "height": null,
            "min_height": null,
            "padding": null,
            "grid_auto_rows": null,
            "grid_gap": null,
            "max_width": null,
            "order": null,
            "_view_module_version": "1.2.0",
            "grid_template_areas": null,
            "object_position": null,
            "object_fit": null,
            "grid_auto_columns": null,
            "margin": null,
            "display": null,
            "left": null
          }
        },
        "7c9b40f141644e6bacf1e5236b7ca0bf": {
          "model_module": "@jupyter-widgets/controls",
          "model_name": "HBoxModel",
          "state": {
            "_view_name": "HBoxView",
            "_dom_classes": [],
            "_model_name": "HBoxModel",
            "_view_module": "@jupyter-widgets/controls",
            "_model_module_version": "1.5.0",
            "_view_count": null,
            "_view_module_version": "1.5.0",
            "box_style": "",
            "layout": "IPY_MODEL_26a8785d219a4237a8f8cff8639f543e",
            "_model_module": "@jupyter-widgets/controls",
            "children": [
              "IPY_MODEL_f3ce933bb6fb4538a5ffe5e6d30ffe8a",
              "IPY_MODEL_d29ca935c9374baf905ae768bed717f4"
            ]
          }
        },
        "26a8785d219a4237a8f8cff8639f543e": {
          "model_module": "@jupyter-widgets/base",
          "model_name": "LayoutModel",
          "state": {
            "_view_name": "LayoutView",
            "grid_template_rows": null,
            "right": null,
            "justify_content": null,
            "_view_module": "@jupyter-widgets/base",
            "overflow": null,
            "_model_module_version": "1.2.0",
            "_view_count": null,
            "flex_flow": null,
            "width": null,
            "min_width": null,
            "border": null,
            "align_items": null,
            "bottom": null,
            "_model_module": "@jupyter-widgets/base",
            "top": null,
            "grid_column": null,
            "overflow_y": null,
            "overflow_x": null,
            "grid_auto_flow": null,
            "grid_area": null,
            "grid_template_columns": null,
            "flex": null,
            "_model_name": "LayoutModel",
            "justify_items": null,
            "grid_row": null,
            "max_height": null,
            "align_content": null,
            "visibility": null,
            "align_self": null,
            "height": null,
            "min_height": null,
            "padding": null,
            "grid_auto_rows": null,
            "grid_gap": null,
            "max_width": null,
            "order": null,
            "_view_module_version": "1.2.0",
            "grid_template_areas": null,
            "object_position": null,
            "object_fit": null,
            "grid_auto_columns": null,
            "margin": null,
            "display": null,
            "left": null
          }
        },
        "f3ce933bb6fb4538a5ffe5e6d30ffe8a": {
          "model_module": "@jupyter-widgets/controls",
          "model_name": "FloatProgressModel",
          "state": {
            "_view_name": "ProgressView",
            "style": "IPY_MODEL_85d923873f1d4a8381c77624c5f87507",
            "_dom_classes": [],
            "description": "100%",
            "_model_name": "FloatProgressModel",
            "bar_style": "success",
            "max": 201,
            "_view_module": "@jupyter-widgets/controls",
            "_model_module_version": "1.5.0",
            "value": 201,
            "_view_count": null,
            "_view_module_version": "1.5.0",
            "orientation": "horizontal",
            "min": 0,
            "description_tooltip": null,
            "_model_module": "@jupyter-widgets/controls",
            "layout": "IPY_MODEL_48470c62a6ee4f44a9f4895fa28018a5"
          }
        },
        "d29ca935c9374baf905ae768bed717f4": {
          "model_module": "@jupyter-widgets/controls",
          "model_name": "HTMLModel",
          "state": {
            "_view_name": "HTMLView",
            "style": "IPY_MODEL_3fc8ec0aaede455481d2bd78f9ac35bf",
            "_dom_classes": [],
            "description": "",
            "_model_name": "HTMLModel",
            "placeholder": "​",
            "_view_module": "@jupyter-widgets/controls",
            "_model_module_version": "1.5.0",
            "value": " 201/201 [33:26&lt;00:00,  9.98s/it]",
            "_view_count": null,
            "_view_module_version": "1.5.0",
            "description_tooltip": null,
            "_model_module": "@jupyter-widgets/controls",
            "layout": "IPY_MODEL_747f92c75f4e49bc91e2ace0b9035326"
          }
        },
        "85d923873f1d4a8381c77624c5f87507": {
          "model_module": "@jupyter-widgets/controls",
          "model_name": "ProgressStyleModel",
          "state": {
            "_view_name": "StyleView",
            "_model_name": "ProgressStyleModel",
            "description_width": "initial",
            "_view_module": "@jupyter-widgets/base",
            "_model_module_version": "1.5.0",
            "_view_count": null,
            "_view_module_version": "1.2.0",
            "bar_color": null,
            "_model_module": "@jupyter-widgets/controls"
          }
        },
        "48470c62a6ee4f44a9f4895fa28018a5": {
          "model_module": "@jupyter-widgets/base",
          "model_name": "LayoutModel",
          "state": {
            "_view_name": "LayoutView",
            "grid_template_rows": null,
            "right": null,
            "justify_content": null,
            "_view_module": "@jupyter-widgets/base",
            "overflow": null,
            "_model_module_version": "1.2.0",
            "_view_count": null,
            "flex_flow": null,
            "width": null,
            "min_width": null,
            "border": null,
            "align_items": null,
            "bottom": null,
            "_model_module": "@jupyter-widgets/base",
            "top": null,
            "grid_column": null,
            "overflow_y": null,
            "overflow_x": null,
            "grid_auto_flow": null,
            "grid_area": null,
            "grid_template_columns": null,
            "flex": null,
            "_model_name": "LayoutModel",
            "justify_items": null,
            "grid_row": null,
            "max_height": null,
            "align_content": null,
            "visibility": null,
            "align_self": null,
            "height": null,
            "min_height": null,
            "padding": null,
            "grid_auto_rows": null,
            "grid_gap": null,
            "max_width": null,
            "order": null,
            "_view_module_version": "1.2.0",
            "grid_template_areas": null,
            "object_position": null,
            "object_fit": null,
            "grid_auto_columns": null,
            "margin": null,
            "display": null,
            "left": null
          }
        },
        "3fc8ec0aaede455481d2bd78f9ac35bf": {
          "model_module": "@jupyter-widgets/controls",
          "model_name": "DescriptionStyleModel",
          "state": {
            "_view_name": "StyleView",
            "_model_name": "DescriptionStyleModel",
            "description_width": "",
            "_view_module": "@jupyter-widgets/base",
            "_model_module_version": "1.5.0",
            "_view_count": null,
            "_view_module_version": "1.2.0",
            "_model_module": "@jupyter-widgets/controls"
          }
        },
        "747f92c75f4e49bc91e2ace0b9035326": {
          "model_module": "@jupyter-widgets/base",
          "model_name": "LayoutModel",
          "state": {
            "_view_name": "LayoutView",
            "grid_template_rows": null,
            "right": null,
            "justify_content": null,
            "_view_module": "@jupyter-widgets/base",
            "overflow": null,
            "_model_module_version": "1.2.0",
            "_view_count": null,
            "flex_flow": null,
            "width": null,
            "min_width": null,
            "border": null,
            "align_items": null,
            "bottom": null,
            "_model_module": "@jupyter-widgets/base",
            "top": null,
            "grid_column": null,
            "overflow_y": null,
            "overflow_x": null,
            "grid_auto_flow": null,
            "grid_area": null,
            "grid_template_columns": null,
            "flex": null,
            "_model_name": "LayoutModel",
            "justify_items": null,
            "grid_row": null,
            "max_height": null,
            "align_content": null,
            "visibility": null,
            "align_self": null,
            "height": null,
            "min_height": null,
            "padding": null,
            "grid_auto_rows": null,
            "grid_gap": null,
            "max_width": null,
            "order": null,
            "_view_module_version": "1.2.0",
            "grid_template_areas": null,
            "object_position": null,
            "object_fit": null,
            "grid_auto_columns": null,
            "margin": null,
            "display": null,
            "left": null
          }
        }
      }
    }
  },
  "cells": [
    {
      "cell_type": "code",
      "metadata": {
        "colab": {
          "base_uri": "https://localhost:8080/"
        },
        "id": "0qDTVO2XfrIx",
        "outputId": "982e0924-b3db-4f58-e077-872f6dfb18ce"
      },
      "source": [
        "from google.colab import drive \n",
        "drive.mount('/content/gdrive')\n",
        "%cd /content/gdrive/MyDrive/Data Augmentation-XrayImg"
      ],
      "execution_count": 3,
      "outputs": [
        {
          "output_type": "stream",
          "text": [
            "Mounted at /content/gdrive\n",
            "/content/gdrive/MyDrive/Data Augmentation-XrayImg\n"
          ],
          "name": "stdout"
        }
      ]
    },
    {
      "cell_type": "code",
      "metadata": {
        "id": "v50jwePgf0fG"
      },
      "source": [
        "import torch\n",
        "import glob\n",
        "from PIL import Image\n",
        "from torchvision import transforms\n",
        "import matplotlib.pyplot as plt \n",
        "import cv2\n",
        "from pycocotools.coco import COCO\n",
        "import json\n",
        "import os\n",
        "\n",
        "from torch.utils.data import Dataset, DataLoader\n",
        "from torchvision.models.segmentation.deeplabv3 import DeepLabHead\n",
        "from torchvision import models\n",
        "from tqdm.notebook import tqdm"
      ],
      "execution_count": 4,
      "outputs": []
    },
    {
      "cell_type": "code",
      "metadata": {
        "id": "xQb6MkBt9CJJ"
      },
      "source": [
        "train_annotation_path='./XRAYBoneDataset/annotations/instances_train.json'\n",
        "train_image_folder='./XRAYBoneDataset/train/'\n",
        "train_mask_folder='./XRAYBoneDataset/train/mask'\n",
        "train_export_data_path='./XRAYBoneDataset/data_train.json'\n",
        "\n",
        "\n",
        "val_annotation_path='./XRAYBoneDataset/annotations/instances_val.json'\n",
        "val_image_folder='./XRAYBoneDataset/val/'\n",
        "val_mask_folder='./XRAYBoneDataset/val/mask'\n",
        "val_export_data_path='./XRAYBoneDataset/data_val.json'\n",
        "\n",
        "\n",
        "test_annotation_path='./XRAYBoneDataset/annotations/instances_test.json'\n",
        "test_image_folder='./XRAYBoneDataset/test/'\n",
        "test_mask_folder='./XRAYBoneDataset/test/mask'\n",
        "test_export_data_path='./XRAYBoneDataset/data_test.json'\n",
        "\n",
        "\n",
        "EPOCH_N=10\n",
        "BATCH_SIZE=4\n",
        "WORKER_N=2\n",
        "DEVICE='cuda'"
      ],
      "execution_count": 5,
      "outputs": []
    },
    {
      "cell_type": "code",
      "metadata": {
        "id": "8lSPqF6HiuCM"
      },
      "source": [
        "\n",
        "\n",
        "def read_json(path):\n",
        "    with open(path, \"r\") as File:\n",
        "        data = json.load(File)\n",
        "        return data\n",
        "\n",
        "def export_coco_format_data(annotation_path='./XRAYBoneDataset/annotations/instances_train.json',\n",
        "                            image_folder='./XRAYBoneDataset/train/',\n",
        "                            mask_folder='./XRAYBoneDataset/train/mask',\n",
        "                            export_data_path='./XRAYBoneDataset/data_train.json'):\n",
        "    coco = COCO(annotation_path)\n",
        "    anns_ids = coco.getAnnIds()\n",
        "    anns = coco.loadAnns(anns_ids)\n",
        "\n",
        "    img_info = coco.imgs\n",
        "    # group all annotations have same image id\n",
        "    groups = {}\n",
        "    for ann in anns:\n",
        "        image_id = ann['image_id']\n",
        "        if image_id not in groups:\n",
        "            groups[image_id] = [ann]\n",
        "        else:\n",
        "            groups[image_id].append(ann)\n",
        "\n",
        "    # save mask in for each image\n",
        "    image_label_pairs = {}\n",
        "    for image_id, ann_list in groups.items():\n",
        "        image_mask = None\n",
        "        for ann in ann_list:\n",
        "            if image_mask is None:\n",
        "                image_mask = coco.annToMask(ann)\n",
        "            else:\n",
        "                image_mask += coco.annToMask(ann)\n",
        "        #print(image_mask.shape)\n",
        "        image_mask[image_mask > 1] = 1\n",
        "        filename = img_info[image_id]['file_name']\n",
        "        name, _ = os.path.splitext(filename)\n",
        "        mask_path = os.path.join(mask_folder, name + '.png').replace('JPEGImages/','')\n",
        "        cv2.imwrite(mask_path, image_mask)\n",
        "\n",
        "        image_path = os.path.join(image_folder, filename)\n",
        "        if not os.path.exists(image_path):\n",
        "            raise ValueError('not found', image_path)\n",
        "        image_label_pairs[image_path] =  mask_path\n",
        "\n",
        "    with open(export_data_path, 'w') as f:\n",
        "        json.dump(image_label_pairs, f)"
      ],
      "execution_count": 6,
      "outputs": []
    },
    {
      "cell_type": "code",
      "metadata": {
        "id": "OzH1-RPo3y-0"
      },
      "source": [
        "export_coco_format_data(train_annotation_path,train_image_folder,train_mask_folder,train_export_data_path)\n",
        "export_coco_format_data(val_annotation_path,val_image_folder,val_mask_folder,val_export_data_path)\n",
        "export_coco_format_data(test_annotation_path,test_image_folder,test_mask_folder,test_export_data_path)"
      ],
      "execution_count": 7,
      "outputs": []
    },
    {
      "cell_type": "code",
      "metadata": {
        "id": "ewA7vms18AhV"
      },
      "source": [
        "mask_img_paths=glob.glob(os.path.join(test_mask_folder,'*.png'))"
      ],
      "execution_count": 8,
      "outputs": []
    },
    {
      "cell_type": "code",
      "metadata": {
        "colab": {
          "base_uri": "https://localhost:8080/",
          "height": 244
        },
        "id": "Rm3Rw83s-vjT",
        "outputId": "1febd178-f4f6-4d0f-e18b-0e934779d447"
      },
      "source": [
        "mask=cv2.imread(mask_img_paths[5])\n",
        "mask[mask>0]=255\n",
        "plt.imshow(mask)\n",
        "plt.show()"
      ],
      "execution_count": 9,
      "outputs": [
        {
          "output_type": "display_data",
          "data": {
            "image/png": "[encoded data removed]",
            "text/plain": [
              "<Figure size 432x288 with 1 Axes>"
            ]
          },
          "metadata": {
            "tags": [],
            "needs_background": "light"
          }
        }
      ]
    },
    {
      "cell_type": "code",
      "metadata": {
        "id": "O3Q6S4GTFMQS"
      },
      "source": [
        "def load_json(path):\n",
        "  with open(path,'r') as f:\n",
        "    dic=json.load(f)\n",
        "  return dic\n",
        "\n",
        "class my_dataset(Dataset):\n",
        "\n",
        "  def __init__(self,path_dic):\n",
        "    self.dic=load_json(path_dic)\n",
        "    self.img_paths=list(self.dic.keys())\n",
        "    self.mask_paths=list(self.dic.values())\n",
        "    self.preprocess = transforms.Compose([\n",
        "                      transforms.ToTensor(),\n",
        "                      transforms.Resize((300,300)),           \n",
        "                      #transforms.Normalize(mean=[0.5, 0.5, 0.5], std=[0.5, 0.5, 0.5]),\n",
        "                      ])\n",
        "\n",
        "\n",
        "  def get(self,paths,idx):\n",
        "    img_path=paths[idx]\n",
        "    img=cv2.imread(img_path)\n",
        "    tail=img_path.split('.')[-1]\n",
        "    if tail=='jpg':\n",
        "      img=cv2.cvtColor(img, cv2.COLOR_BGR2RGB)\n",
        "    elif tail=='png':\n",
        "      img=cv2.cvtColor(img, cv2.COLOR_BGR2GRAY)\n",
        "    img=self.preprocess(img)\n",
        "    #img=img.permute(2,1,0)\n",
        "    \n",
        "    return img\n",
        "\n",
        "\n",
        "  def __getitem__(self,idx):\n",
        "    img=self.get(self.img_paths,idx)\n",
        "    mask=self.get(self.mask_paths,idx)\n",
        "    return img,mask*255\n",
        "\n",
        "  def __len__(self):\n",
        "    return len(self.img_paths)"
      ],
      "execution_count": 10,
      "outputs": []
    },
    {
      "cell_type": "code",
      "metadata": {
        "id": "kzH61dhJ__Lp"
      },
      "source": [
        "train_dataset=my_dataset(train_export_data_path)\n",
        "val_dataset=my_dataset(val_export_data_path)\n",
        "test_dataset=my_dataset(test_export_data_path)"
      ],
      "execution_count": 11,
      "outputs": []
    },
    {
      "cell_type": "code",
      "metadata": {
        "id": "TeihvzoxQlg4"
      },
      "source": [
        "train_dataloader = torch.utils.data.DataLoader(\n",
        "   train_dataset,\n",
        "   batch_size=BATCH_SIZE,\n",
        "   num_workers=WORKER_N,\n",
        "   shuffle=True,\n",
        "   )\n",
        "\n",
        "val_dataloader = torch.utils.data.DataLoader(\n",
        "   val_dataset,\n",
        "   batch_size=BATCH_SIZE,\n",
        "   num_workers=WORKER_N,\n",
        "   shuffle=True,\n",
        "   )\n",
        "\n",
        "test_dataloader = torch.utils.data.DataLoader(\n",
        "   test_dataset,\n",
        "   batch_size=BATCH_SIZE,\n",
        "   num_workers=WORKER_N,\n",
        "   shuffle=False,\n",
        "   )"
      ],
      "execution_count": 12,
      "outputs": []
    },
    {
      "cell_type": "code",
      "metadata": {
        "colab": {
          "base_uri": "https://localhost:8080/",
          "height": 204
        },
        "id": "e85DyF06UwtY",
        "outputId": "dc71e5b4-10bf-43bd-e733-80e52ccdc34b"
      },
      "source": [
        "img,mask=test_dataset[0]\n",
        "img=img.permute(1,2,0)\n",
        "plt.subplot(1,2,1)\n",
        "plt.imshow(img)\n",
        "plt.subplot(1,2,2)\n",
        "plt.imshow(mask[0], cmap='gray')\n",
        "plt.show()"
      ],
      "execution_count": 13,
      "outputs": [
        {
          "output_type": "display_data",
          "data": {
            "image/png": "[encoded data removed]",
            "text/plain": [
              "<Figure size 432x288 with 2 Axes>"
            ]
          },
          "metadata": {
            "tags": [],
            "needs_background": "light"
          }
        }
      ]
    },
    {
      "cell_type": "code",
      "metadata": {
        "id": "2Mqnk4f6RgGW",
        "colab": {
          "base_uri": "https://localhost:8080/",
          "height": 83,
          "referenced_widgets": [
            "a65a4b4b25ee4ee3a8dff19572b41521",
            "f0ca65c152394805b12693530299ee3f",
            "8e576a6d3005478fa518832c5da175ec",
            "0845d449afb645c09c48e1a9138c6201",
            "f521c259993d427893084ffdc167817a",
            "23d720c91d49424bafcf62bffd6ffbf3",
            "2f18756f0d664cc9b02e92635c2dd7ff",
            "a3807945598848f2b1383cda77e2167e"
          ]
        },
        "outputId": "6bb8d27d-23a0-467d-83f0-57f2efa21acf"
      },
      "source": [
        "from torch.nn.functional import sigmoid\n",
        "\n",
        "def createDeepLabv3(classes_n=1):\n",
        "    model = models.segmentation.deeplabv3_resnet101(pretrained=True,progress=True)\n",
        "    model.classifier = DeepLabHead(2048, classes_n)\n",
        "    return model\n",
        "model=createDeepLabv3()"
      ],
      "execution_count": 14,
      "outputs": [
        {
          "output_type": "stream",
          "text": [
            "Downloading: \"https://download.pytorch.org/models/deeplabv3_resnet101_coco-586e9e4e.pth\" to /root/.cache/torch/hub/checkpoints/deeplabv3_resnet101_coco-586e9e4e.pth\n"
          ],
          "name": "stderr"
        },
        {
          "output_type": "display_data",
          "data": {
            "application/vnd.jupyter.widget-view+json": {
              "model_id": "a65a4b4b25ee4ee3a8dff19572b41521",
              "version_minor": 0,
              "version_major": 2
            },
            "text/plain": [
              "HBox(children=(FloatProgress(value=0.0, max=244545539.0), HTML(value='')))"
            ]
          },
          "metadata": {
            "tags": []
          }
        },
        {
          "output_type": "stream",
          "text": [
            "\n"
          ],
          "name": "stdout"
        }
      ]
    },
    {
      "cell_type": "code",
      "metadata": {
        "id": "J9a7GeHHMleF"
      },
      "source": [
        "from sklearn.metrics import jaccard_score\n",
        "\n",
        "def pre_iou(p,thre=0.05):\n",
        "  p[p<=0.05]=0\n",
        "  p[p>0.05]=1\n",
        "  return p.astype(int)\n",
        "\n",
        "def iou(out, label):\n",
        "    out = torch.reshape(out, [out.shape[0], -1]).numpy()\n",
        "    label = torch.reshape(label, [label.shape[0], -1]).numpy()\n",
        "    average_score=0\n",
        "    for p, l in zip(out, label):\n",
        "        \n",
        "        p=pre_iou(p)\n",
        "        l=pre_iou(l)\n",
        "        score = jaccard_score(p, l, average='macro')\n",
        "        average_score += score\n",
        "\n",
        "    return average_score / len(out)\n",
        "\n"
      ],
      "execution_count": 53,
      "outputs": []
    },
    {
      "cell_type": "code",
      "metadata": {
        "id": "AKBQc0_6Rure"
      },
      "source": [
        "best_point=9999\n",
        "model.to(DEVICE)\n",
        "criterion = torch.nn.MSELoss(reduction='mean')\n",
        "optimizer=torch.optim.Adam(model.parameters(), lr=3e-4)\n",
        "for epoch in range(EPOCH_N):\n",
        "  print(\"Training...\")\n",
        "  train_loss=0\n",
        "  val_loss=0\n",
        "  iou_train=[]\n",
        "  iou_val=[]\n",
        "  for imgs,masks in tqdm(train_dataloader):\n",
        "    model.train()\n",
        "    optimizer.zero_grad()\n",
        "    imgs=imgs.to(DEVICE)\n",
        "    masks=masks.to(DEVICE)\n",
        "    outs=model(imgs)\n",
        "    outs=torch.sigmoid(outs['out'])\n",
        "    loss=criterion(outs,masks)  \t\n",
        "    loss.backward()\n",
        "    optimizer.step()\n",
        "    train_loss+=loss.item()\n",
        "    iou_train+=iou(outs,masks)\n",
        "  for imgs,masks in tqdm(val_dataloader):\n",
        "    model.eval()\n",
        "    imgs=imgs.to(DEVICE)\n",
        "    masks=masks.to(DEVICE)\n",
        "    outs=model(imgs)\n",
        "    outs=torch.sigmoid(outs['out'])\n",
        "    loss=criterion(outs,masks)\n",
        "    val_loss+=loss.item()\n",
        "    iou_val+=iou(imgs,masks)\n",
        "  if val_loss<best_point:\n",
        "    best_point=val_loss\n",
        "    torch.save(model.state_dict(), \"./model.pth\")\n",
        "  print(\"------------------------->\", train_loss,iou_train,val_loss,iou_val)"
      ],
      "execution_count": 16,
      "outputs": []
    },
    {
      "cell_type": "code",
      "metadata": {
        "colab": {
          "base_uri": "https://localhost:8080/"
        },
        "id": "EpTldBK5wo22",
        "outputId": "9b39f789-f59c-4ee5-9e27-e395ad2e7393"
      },
      "source": [
        "model.load_state_dict(torch.load(\"./model.pth\"))"
      ],
      "execution_count": 17,
      "outputs": [
        {
          "output_type": "execute_result",
          "data": {
            "text/plain": [
              "<All keys matched successfully>"
            ]
          },
          "metadata": {
            "tags": []
          },
          "execution_count": 17
        }
      ]
    },
    {
      "cell_type": "code",
      "metadata": {
        "id": "YFqcyugbTl7j",
        "colab": {
          "base_uri": "https://localhost:8080/",
          "height": 150
        },
        "outputId": "57ee527e-782f-45d4-d7bb-9b27890f9801"
      },
      "source": [
        "img,mask=test_dataset[14]\n",
        "img_=img.permute(1,2,0)\n",
        "img=img.reshape(1,img.shape[0],img.shape[1],img.shape[2])\n",
        "\n",
        "with torch.no_grad():\n",
        "    out = model.eval().cpu()(img)['out'][0]\n",
        "    out=torch.sigmoid(out)\n",
        "\n",
        "out[out>0.05]=1\n",
        "out[out<=0.05]=0\n",
        "plt.subplot(1,3,1)\n",
        "plt.imshow(img_)\n",
        "plt.subplot(1,3,2)\n",
        "plt.imshow(out[0], cmap='gray')\n",
        "plt.subplot(1,3,3)\n",
        "plt.imshow(mask[0], cmap='gray')\n",
        "plt.show()"
      ],
      "execution_count": 18,
      "outputs": [
        {
          "output_type": "display_data",
          "data": {
            "image/png": "[encoded data removed]",
            "text/plain": [
              "<Figure size 432x288 with 3 Axes>"
            ]
          },
          "metadata": {
            "tags": [],
            "needs_background": "light"
          }
        }
      ]
    },
    {
      "cell_type": "code",
      "metadata": {
        "id": "UTrrTIu-h2HK"
      },
      "source": [
        ""
      ],
      "execution_count": 58,
      "outputs": []
    },
    {
      "cell_type": "code",
      "metadata": {
        "id": "U_MI7xE9e2BK",
        "colab": {
          "base_uri": "https://localhost:8080/",
          "height": 100,
          "referenced_widgets": [
            "7c9b40f141644e6bacf1e5236b7ca0bf",
            "26a8785d219a4237a8f8cff8639f543e",
            "f3ce933bb6fb4538a5ffe5e6d30ffe8a",
            "d29ca935c9374baf905ae768bed717f4",
            "85d923873f1d4a8381c77624c5f87507",
            "48470c62a6ee4f44a9f4895fa28018a5",
            "3fc8ec0aaede455481d2bd78f9ac35bf",
            "747f92c75f4e49bc91e2ace0b9035326"
          ]
        },
        "outputId": "fe8a5e2a-7130-4df7-dddf-0b6b661b5e0e"
      },
      "source": [
        "for imgs,masks in tqdm(test_dataloader):  \n",
        "    with torch.no_grad():\n",
        "      outs = model.eval().cpu()(imgs)['out']\n",
        "      outs=torch.sigmoid(outs)\n",
        "      iou_ = iou(outs,masks)\n",
        "      test_iou+=iou_\n",
        "      i+=1\n",
        "      \n",
        "\n",
        "print(test_iou/i)\n"
      ],
      "execution_count": 59,
      "outputs": [
        {
          "output_type": "stream",
          "text": [
            "\n"
          ],
          "name": "stdout"
        },
        {
          "output_type": "display_data",
          "data": {
            "application/vnd.jupyter.widget-view+json": {
              "model_id": "7c9b40f141644e6bacf1e5236b7ca0bf",
              "version_minor": 0,
              "version_major": 2
            },
            "text/plain": [
              "HBox(children=(FloatProgress(value=0.0, max=201.0), HTML(value='')))"
            ]
          },
          "metadata": {
            "tags": []
          }
        },
        {
          "output_type": "stream",
          "text": [
            "\n",
            "0.944913441472068\n"
          ],
          "name": "stdout"
        }
      ]
    },
    {
      "cell_type": "code",
      "metadata": {
        "id": "n6tLCM3dEzYH"
      },
      "source": [
        "\n"
      ],
      "execution_count": null,
      "outputs": []
    }
  ]
}