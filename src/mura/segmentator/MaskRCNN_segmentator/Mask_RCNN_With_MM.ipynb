{
  "nbformat": 4,
  "nbformat_minor": 0,
  "metadata": {
    "colab": {
      "name": "Mask_RCNN_With_MM.ipynb",
      "provenance": [],
      "collapsed_sections": []
    },
    "kernelspec": {
      "name": "python3",
      "display_name": "Python 3"
    },
    "language_info": {
      "name": "python"
    },
    "accelerator": "GPU"
  },
  "cells": [
    {
      "cell_type": "code",
      "metadata": {
        "colab": {
          "base_uri": "https://localhost:8080/"
        },
        "id": "hkj7NUeYW9bj",
        "outputId": "d62f9e8b-0cd4-40bd-e6ab-0f51454ddb71"
      },
      "source": [
        "from google.colab import drive \n",
        "drive.mount('/content/gdrive')\n",
        "%cd /content/gdrive/MyDrive/Data Augmentation-XrayImg"
      ],
      "execution_count": 1,
      "outputs": [
        {
          "output_type": "stream",
          "text": [
            "Mounted at /content/gdrive\n",
            "/content/gdrive/MyDrive/Data Augmentation-XrayImg\n"
          ],
          "name": "stdout"
        }
      ]
    },
    {
      "cell_type": "code",
      "metadata": {
        "id": "0O3V-iTqXKld",
        "colab": {
          "base_uri": "https://localhost:8080/"
        },
        "outputId": "42f07f8f-ef62-4f54-a2b2-b3c4de08deb7"
      },
      "source": [
        "#!unzip XRAYBoneDataset.zip"
      ],
      "execution_count": null,
      "outputs": [
        {
          "output_type": "stream",
          "text": [
            "Archive:  XRAYBoneDataset.zip\n",
            "replace XRAYBoneDataset/train/JPEGImages/finger_2119_image2.jpg? [y]es, [n]o, [A]ll, [N]one, [r]ename: "
          ],
          "name": "stdout"
        }
      ]
    },
    {
      "cell_type": "markdown",
      "metadata": {
        "id": "m_OmXtTxXOub"
      },
      "source": [
        "#0. Setup"
      ]
    },
    {
      "cell_type": "code",
      "metadata": {
        "id": "Cj5Zclg9XNNy"
      },
      "source": [
        "!pip install mmcv-full -f https://download.openmmlab.com/mmcv/dist/{cu_version}/{torch_version}/index.html"
      ],
      "execution_count": null,
      "outputs": []
    },
    {
      "cell_type": "code",
      "metadata": {
        "id": "b4glmb2JXeu8"
      },
      "source": [
        "!git clone https://github.com/open-mmlab/mmdetection.git\n",
        "%cd mmdetection\n",
        "!pip install -r requirementsa/build.txt\n",
        "!pip install -v -e .\n",
        "!mkdir checkpoints/ "
      ],
      "execution_count": null,
      "outputs": []
    },
    {
      "cell_type": "code",
      "metadata": {
        "colab": {
          "base_uri": "https://localhost:8080/"
        },
        "id": "KMzfkMCYN6lP",
        "outputId": "66963cb1-65d8-4498-f177-2ad281017db0"
      },
      "source": [
        "%cd mmdetection/"
      ],
      "execution_count": null,
      "outputs": [
        {
          "output_type": "stream",
          "text": [
            "[Errno 2] No such file or directory: 'mmdetection/'\n",
            "/content/gdrive/MyDrive/Data Augmentation-XrayImg/mmdetection\n"
          ],
          "name": "stdout"
        }
      ]
    },
    {
      "cell_type": "code",
      "metadata": {
        "id": "5LkM20GSXzbr"
      },
      "source": [
        "import torch\n",
        "import torchvision\n",
        "from torch.utils.data import Dataset\n",
        "import os\n",
        "import glob\n",
        "import cv2\n",
        "import matplotlib.pyplot as plt\n",
        "import json\n",
        "from tqdm import tqdm\n",
        "from matplotlib import patches\n",
        "import numpy as np \n",
        "import mmcv"
      ],
      "execution_count": 4,
      "outputs": []
    },
    {
      "cell_type": "code",
      "metadata": {
        "id": "m7D7Skb9YMDH"
      },
      "source": [
        "train_annotations_path='../XRAYBoneDataset/annotations/instances_train.json'\n",
        "val_annotations_path='../XRAYBoneDataset/annotations/instances_val.json'\n",
        "test_annotations_path='../XRAYBoneDataset/annotations/instances_test.json'\n",
        "\n",
        "train_images_path='../XRAYBoneDataset/train/JPEGImages'\n",
        "val_images_path='../XRAYBoneDataset/val/JPEGImages'\n",
        "test_images_path='../XRAYBoneDataset/test/JPEGImages'\n",
        "\n",
        "#!mkdir ../XRAYBoneDataset/train/save_JPEGImages\n",
        "#!mkdir ../XRAYBoneDataset/val/save_JPEGImages\n",
        "#!mkdir ../XRAYBoneDataset/test/save_JPEGImages\n",
        "\n",
        "save_train_images_folder='../XRAYBoneDataset/train/save_JPEGImages'\n",
        "save_val_images_folder='../XRAYBoneDataset/val/save_JPEGImages'\n",
        "save_test_images_folder='../XRAYBoneDataset/test/save_JPEGImages'\n",
        "\n",
        "\n",
        "EPOCH_N=1\n",
        "BATCH_SIZE=32\n"
      ],
      "execution_count": 5,
      "outputs": []
    },
    {
      "cell_type": "markdown",
      "metadata": {
        "id": "3z--gCcvYOBJ"
      },
      "source": [
        "# 1. Utils"
      ]
    },
    {
      "cell_type": "code",
      "metadata": {
        "id": "Lbvn1vS5YQv8"
      },
      "source": [
        "def read_json(path):\n",
        "  with open(path,'r') as f:\n",
        "    data=json.load(f)\n",
        "  return data\n",
        "\n",
        "\n",
        "def save_json(path,data):\n",
        "  with open(path,'w') as f:\n",
        "    json.dump(data,f,indent=4)\n",
        "    "
      ],
      "execution_count": 6,
      "outputs": []
    },
    {
      "cell_type": "code",
      "metadata": {
        "id": "uXSP6wUdYSE4"
      },
      "source": [
        "data=read_json(train_annotations_path)"
      ],
      "execution_count": 7,
      "outputs": []
    },
    {
      "cell_type": "code",
      "metadata": {
        "colab": {
          "base_uri": "https://localhost:8080/"
        },
        "id": "6n9KRzxOcjeU",
        "outputId": "38a9b6fa-baef-4c9e-96c1-c1d2bf550cd8"
      },
      "source": [
        "print(data['categories'])"
      ],
      "execution_count": 8,
      "outputs": [
        {
          "output_type": "stream",
          "text": [
            "[{'supercategory': None, 'id': 0, 'name': '_background_'}, {'supercategory': None, 'id': 1, 'name': 'bone'}]\n"
          ],
          "name": "stdout"
        }
      ]
    },
    {
      "cell_type": "markdown",
      "metadata": {
        "id": "yBDu6i-ghSXy"
      },
      "source": [
        "# 2. Train"
      ]
    },
    {
      "cell_type": "code",
      "metadata": {
        "id": "JHErENtehT09",
        "colab": {
          "base_uri": "https://localhost:8080/"
        },
        "outputId": "e0776e4b-3fa3-4250-ce24-835296dacf99"
      },
      "source": [
        "!wget -P ./checkpoints/ http://download.openmmlab.com/mmdetection/v2.0/mask_rcnn/mask_rcnn_r50_caffe_fpn_mstrain-poly_3x_coco/mask_rcnn_r50_caffe_fpn_mstrain-poly_3x_coco_bbox_mAP-0.408__segm_mAP-0.37_20200504_163245-42aa3d00.pth"
      ],
      "execution_count": 9,
      "outputs": [
        {
          "output_type": "stream",
          "text": [
            "--2021-04-07 08:06:54--  http://download.openmmlab.com/mmdetection/v2.0/mask_rcnn/mask_rcnn_r50_caffe_fpn_mstrain-poly_3x_coco/mask_rcnn_r50_caffe_fpn_mstrain-poly_3x_coco_bbox_mAP-0.408__segm_mAP-0.37_20200504_163245-42aa3d00.pth\n",
            "Resolving download.openmmlab.com (download.openmmlab.com)... 47.252.96.35\n",
            "Connecting to download.openmmlab.com (download.openmmlab.com)|47.252.96.35|:80... connected.\n",
            "HTTP request sent, awaiting response... 200 OK\n",
            "Length: 177867103 (170M) [application/octet-stream]\n",
            "Saving to: ‘./checkpoints/mask_rcnn_r50_caffe_fpn_mstrain-poly_3x_coco_bbox_mAP-0.408__segm_mAP-0.37_20200504_163245-42aa3d00.pth’\n",
            "\n",
            "mask_rcnn_r50_caffe 100%[===================>] 169.63M  8.54MB/s    in 21s     \n",
            "\n",
            "2021-04-07 08:07:16 (8.26 MB/s) - ‘./checkpoints/mask_rcnn_r50_caffe_fpn_mstrain-poly_3x_coco_bbox_mAP-0.408__segm_mAP-0.37_20200504_163245-42aa3d00.pth’ saved [177867103/177867103]\n",
            "\n"
          ],
          "name": "stdout"
        }
      ]
    },
    {
      "cell_type": "code",
      "metadata": {
        "id": "sM5aO3p6eyYn"
      },
      "source": [
        "# TRAIN\n",
        "!python3 ./tools/train.py ../train_xray_segm.py"
      ],
      "execution_count": null,
      "outputs": []
    },
    {
      "cell_type": "code",
      "metadata": {
        "id": "5m28NndThrn5"
      },
      "source": [
        "#TEST\n",
        "!python3 ./tools/test.py ../train_xray_segm.py ./work_dirs/train_xray_segm/latest.pth --eval bbox segm"
      ],
      "execution_count": null,
      "outputs": []
    },
    {
      "cell_type": "code",
      "metadata": {
        "id": "W0v2CsNveEjJ"
      },
      "source": [
        "!cp ./work_dirs/train_xray_segm/latest.pth -r ../../"
      ],
      "execution_count": 18,
      "outputs": []
    },
    {
      "cell_type": "code",
      "metadata": {
        "id": "0lpvlYFxeRrg"
      },
      "source": [
        "def convert_bin(result):\n",
        "  x=result[1][0][0]\n",
        "  new_result=[]\n",
        "  for i in range(len(x)):\n",
        "    new_x=[]\n",
        "    for j in range(len(x[i])):\n",
        "      if x[i][j]:\n",
        "        new_x.append(1)\n",
        "      else:\n",
        "        new_x.append(0)\n",
        "    new_result.append(new_x)\n",
        "  return new_result # mask\n",
        "      \n",
        "\n",
        "def remove_background(img,mask):\n",
        "  \n",
        "  img=np.transpose(img, (2, 0, 1))\n",
        "  for channel in img:\n",
        "    for i in range(len(channel)):\n",
        "      for j in range(len(channel[i])):\n",
        "        if mask[i][j]==0:\n",
        "          channel[i][j]=0\n",
        "  \n",
        "  return np.transpose(img, (1, 2, 0))\n",
        "\n",
        "\n"
      ],
      "execution_count": 11,
      "outputs": []
    },
    {
      "cell_type": "code",
      "metadata": {
        "id": "g5-SbA8KjfXX",
        "colab": {
          "base_uri": "https://localhost:8080/",
          "height": 340
        },
        "outputId": "91025cb9-de06-47ef-9897-bb64069a140e"
      },
      "source": [
        "# demo img\n",
        "%matplotlib inline\n",
        "from mmdet.apis import init_detector, inference_detector\n",
        "image_paths = glob.glob(os.path.join(test_images_path,'*.jpg'))\n",
        "config_file = '../train_xray_segm.py'\n",
        "checkpoint_file = './work_dirs/train_xray_segm/latest.pth'\n",
        "device = 'cuda:0'\n",
        "# init a detector\n",
        "model = init_detector(config_file, checkpoint_file, device=device)\n",
        "# inference the demo image\n",
        "path = next(iter(image_paths))\n",
        "img=cv2.imread(path)\n",
        "result=inference_detector(model, path)\n",
        "new_re=convert_bin(result)\n",
        "new_re=np.array(new_re)\n",
        "new_re=remove_background(img,new_re)\n",
        "plt.imshow(new_re)\n",
        "plt.show()\n"
      ],
      "execution_count": 14,
      "outputs": [
        {
          "output_type": "stream",
          "text": [
            "Use load_from_local loader\n"
          ],
          "name": "stdout"
        },
        {
          "output_type": "stream",
          "text": [
            "/content/gdrive/My Drive/Data Augmentation-XrayImg/mmdetection/mmdet/datasets/utils.py:68: UserWarning: \"ImageToTensor\" pipeline is replaced by \"DefaultFormatBundle\" for batch inference. It is recommended to manually replace it in the test data pipeline in your config file.\n",
            "  'data pipeline in your config file.', UserWarning)\n"
          ],
          "name": "stderr"
        },
        {
          "output_type": "display_data",
          "data": {
            "image/png": "[encoded data removed]",
            "text/plain": [
              "<Figure size 432x288 with 1 Axes>"
            ]
          },
          "metadata": {
            "tags": [],
            "needs_background": "light"
          }
        }
      ]
    },
    {
      "cell_type": "code",
      "metadata": {
        "id": "b41-S5SX8Lun"
      },
      "source": [
        "\n",
        "def save_new_img(original_img_paths,save_img_folder):\n",
        "  image_paths = glob.glob(os.path.join(original_img_paths,'*.jpg'))\n",
        "  for i,img_path in enumerate(image_paths):\n",
        "    img=cv2.imread(img_path)\n",
        "    result=inference_detector(model, img_path)\n",
        "    new_re=convert_bin(result)\n",
        "    new_re=np.array(new_re)\n",
        "    new_re=remove_background(img,new_re)\n",
        "    clahe_img=equalize_clahe_color(new_re)\n",
        "    save_img_path=os.path.join(save_img_folder,'%d.jpg'%i)\n",
        "    cv2.imwrite(save_img_path,clahe_img)\n",
        "\n",
        "def equalize_clahe_color(img):\n",
        "    cla = cv2.createCLAHE(clipLimit=4.0, tileGridSize=(18, 18))\n",
        "    channels = cv2.split(img)\n",
        "    eq_channels = []\n",
        "    for ch in channels:\n",
        "        eq_channels.append(cla.apply(ch))\n",
        "\n",
        "    eq_image = cv2.merge(eq_channels)\n",
        "    return eq_image"
      ],
      "execution_count": 15,
      "outputs": []
    },
    {
      "cell_type": "code",
      "metadata": {
        "id": "ZG3GQ93i6yrv"
      },
      "source": [
        "# save_new_img(test_images_path,save_test_images_folder)\n",
        "# save_new_img(val_images_path,save_val_images_folder)\n",
        "# save_new_img(train_images_path,save_train_images_folder)"
      ],
      "execution_count": 16,
      "outputs": []
    },
    {
      "cell_type": "code",
      "metadata": {
        "colab": {
          "base_uri": "https://localhost:8080/",
          "height": 269
        },
        "id": "6zg2gpM-AcDJ",
        "outputId": "27c5f84d-7e43-4301-d88c-2be2904dddb1"
      },
      "source": [
        "image_paths = glob.glob(os.path.join(save_test_images_folder,'*.jpg'))\n",
        "path = next(iter(image_paths))\n",
        "image = cv2.imread(path)\n",
        "clahe_img=equalize_clahe_color(image)\n",
        "plt.subplot(1,2,1)\n",
        "plt.imshow(image)\n",
        "plt.subplot(1,2,2)\n",
        "plt.imshow(clahe_img)\n",
        "plt.show()\n"
      ],
      "execution_count": 17,
      "outputs": [
        {
          "output_type": "display_data",
          "data": {
            "image/png": "[encoded data removed]",
            "text/plain": [
              "<Figure size 432x288 with 2 Axes>"
            ]
          },
          "metadata": {
            "tags": [],
            "needs_background": "light"
          }
        }
      ]
    },
    {
      "cell_type": "code",
      "metadata": {
        "id": "0tMFPUKlPnXW"
      },
      "source": [
        ""
      ],
      "execution_count": null,
      "outputs": []
    }
  ]
}