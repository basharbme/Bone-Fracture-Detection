{
  "nbformat": 4,
  "nbformat_minor": 0,
  "metadata": {
    "accelerator": "GPU",
    "colab": {
      "name": "SUB_MuRa_With_MM.ipynb",
      "provenance": [],
      "collapsed_sections": []
    },
    "kernelspec": {
      "display_name": "Python 3",
      "name": "python3"
    }
  },
  "cells": [
    {
      "cell_type": "code",
      "metadata": {
        "colab": {
          "base_uri": "https://localhost:8080/"
        },
        "id": "uovN0YctkO4n",
        "outputId": "1a9aa69a-bdde-4be1-8657-05efcad57797"
      },
      "source": [
        "from google.colab import drive \n",
        "drive.mount('/content/gdrive')\n",
        "%cd /content/gdrive/MyDrive/Data Augmentation-XrayImg/"
      ],
      "execution_count": 2,
      "outputs": [
        {
          "output_type": "stream",
          "text": [
            "Mounted at /content/gdrive\n",
            "/content/gdrive/MyDrive/Data Augmentation-XrayImg\n"
          ],
          "name": "stdout"
        }
      ]
    },
    {
      "cell_type": "code",
      "metadata": {
        "id": "_1MIYjynkMvp",
        "colab": {
          "base_uri": "https://localhost:8080/"
        },
        "outputId": "da10360c-91d7-4bbd-cb96-f3e7400ae23f"
      },
      "source": [
        "!pip install mmcv-full -f https://download.openmmlab.com/mmcv/dist/{cu_version}/{torch_version}/index.html"
      ],
      "execution_count": null,
      "outputs": [
        {
          "output_type": "stream",
          "text": [
            "Looking in links: https://download.openmmlab.com/mmcv/dist/{cu_version}/{torch_version}/index.html\n",
            "Collecting mmcv-full\n",
            "\u001b[?25l  Downloading https://files.pythonhosted.org/packages/3a/82/420a5f4afc5763750d819659a7875ebd7656433203d74af5e68a2657c2f6/mmcv-full-1.2.7.tar.gz (231kB)\n",
            "\u001b[K     |████████████████████████████████| 235kB 17.5MB/s \n",
            "\u001b[?25hCollecting addict\n",
            "  Downloading https://files.pythonhosted.org/packages/6a/00/b08f23b7d7e1e14ce01419a467b583edbb93c6cdb8654e54a9cc579cd61f/addict-2.4.0-py3-none-any.whl\n",
            "Requirement already satisfied: numpy in /usr/local/lib/python3.7/dist-packages (from mmcv-full) (1.19.5)\n",
            "Requirement already satisfied: Pillow in /usr/local/lib/python3.7/dist-packages (from mmcv-full) (7.0.0)\n",
            "Requirement already satisfied: pyyaml in /usr/local/lib/python3.7/dist-packages (from mmcv-full) (3.13)\n",
            "Collecting yapf\n",
            "\u001b[?25l  Downloading https://files.pythonhosted.org/packages/5f/0d/8814e79eb865eab42d95023b58b650d01dec6f8ea87fc9260978b1bf2167/yapf-0.31.0-py2.py3-none-any.whl (185kB)\n",
            "\u001b[K     |████████████████████████████████| 194kB 50.2MB/s \n",
            "\u001b[?25hBuilding wheels for collected packages: mmcv-full\n",
            "  Building wheel for mmcv-full (setup.py) ... \u001b[?25l\u001b[?25hdone\n",
            "  Created wheel for mmcv-full: filename=mmcv_full-1.2.7-cp37-cp37m-linux_x86_64.whl size=21764640 sha256=64a2c5e5e63d56869b29dc2f3a89f6ce32fc81c9031b31d6161711b898d8fe79\n",
            "  Stored in directory: /root/.cache/pip/wheels/d9/eb/f8/766019b8f36d3a7b655618fc46d65bf52801906b30185a4624\n",
            "Successfully built mmcv-full\n",
            "Installing collected packages: addict, yapf, mmcv-full\n",
            "Successfully installed addict-2.4.0 mmcv-full-1.2.7 yapf-0.31.0\n"
          ],
          "name": "stdout"
        }
      ]
    },
    {
      "cell_type": "code",
      "metadata": {
        "id": "tALYW24kwWdj"
      },
      "source": [
        "!git clone https://github.com/open-mmlab/mmdetection.git\n",
        "%cd mmdetection\n",
        "!pip install -r requirements/build.txt\n",
        "!pip install -v -e .\n"
      ],
      "execution_count": null,
      "outputs": []
    },
    {
      "cell_type": "markdown",
      "metadata": {
        "id": "dAwA0f5m-sX9"
      },
      "source": [
        "# 0. Import Libraies"
      ]
    },
    {
      "cell_type": "code",
      "metadata": {
        "id": "DgPguhwD-vP9"
      },
      "source": [
        "import os\n",
        "import glob\n",
        "import cv2\n",
        "import matplotlib.pyplot as plt\n",
        "import json\n",
        "import mmcv\n"
      ],
      "execution_count": 3,
      "outputs": []
    },
    {
      "cell_type": "markdown",
      "metadata": {
        "id": "H6FYEU8G9thD"
      },
      "source": [
        "# 1. Prepare Data"
      ]
    },
    {
      "cell_type": "code",
      "metadata": {
        "id": "d8UgU38Cn2vO"
      },
      "source": [
        "#!unzip ../original.zip"
      ],
      "execution_count": null,
      "outputs": []
    },
    {
      "cell_type": "code",
      "metadata": {
        "id": "ybXZIhBh53H9"
      },
      "source": [
        "def get_anno(txt_path):\n",
        "    annos=[]\n",
        "    with open(txt_path) as f:\n",
        "      for line in f.readlines():\n",
        "        anno=line[:-1].split(\" \")\n",
        "        anno = [float(num) for num in anno]\n",
        "        annos.append(anno[1:])\n",
        "    return annos\n",
        "\n",
        "\n",
        "\n",
        "def get_offset(annos,image): # for single image\n",
        "  new_annos=[]\n",
        "  for annotation in annos:\n",
        "    bbox = [annotation[0] * image.shape[1], annotation[1] * image.shape[0], \n",
        "            annotation[2] * image.shape[1], annotation[3] * image.shape[0]]\n",
        "    new_annos.append(bbox)\n",
        "  return new_annos\n",
        "\n",
        "\n",
        "def get_path(data_path):\n",
        "  img_paths = glob.glob(os.path.join(data_path,\"*.png\"))\n",
        "  dic={}\n",
        "  for img_path in img_paths:\n",
        "    txt_path = img_path.replace('.png','.txt')\n",
        "    dic[img_path]=get_anno(txt_path)\n",
        "  return dic\n",
        "\n"
      ],
      "execution_count": null,
      "outputs": []
    },
    {
      "cell_type": "code",
      "metadata": {
        "id": "sjZqheu9B9lt"
      },
      "source": [
        "# Predict label: [0 cx cy w h]\n",
        "def my_draw(img_path,anno):\n",
        "  image=cv2.imread(img_path)\n",
        "  print(image.shape)\n",
        "  bboxs=get_offset(anno,image)\n",
        "  for bbox in bboxs:\n",
        "    cv2.rectangle(image, (int(bbox[0] - bbox[2] / 2), int(bbox[1] - bbox[3] / 2)), (int(bbox[0] + bbox[2] / 2), int(bbox[1] + bbox[3] / 2)), (225, 0, 0), 2)\n",
        "  plt.figure(figsize = (10, 10))\n",
        "  plt.imshow(image)\n",
        "\n",
        "def read_json(path):\n",
        "  with open(path,'r') as f:\n",
        "    data = json.load(f)\n",
        "  return data\n",
        "\n",
        "def write_json(dic,path):\n",
        "  with open(path,'w') as f:\n",
        "    json.dump(dic,f,indent=4)\n",
        "\n"
      ],
      "execution_count": null,
      "outputs": []
    },
    {
      "cell_type": "code",
      "metadata": {
        "id": "0w7fsJ9ZEeUm"
      },
      "source": [
        "data_train_path = '../original/dataDetect_train'\n",
        "dic_train=get_path(data_train_path)\n",
        "data_test_path = '../original/dataDetect_test'\n",
        "dic_test=get_path(data_test_path)"
      ],
      "execution_count": null,
      "outputs": []
    },
    {
      "cell_type": "code",
      "metadata": {
        "id": "VNwSB4URSQ1B"
      },
      "source": [
        "write_json(dic_train,'../train_data.json')\n",
        "write_json(dic_test,'../test_data.json')"
      ],
      "execution_count": null,
      "outputs": []
    },
    {
      "cell_type": "code",
      "metadata": {
        "colab": {
          "base_uri": "https://localhost:8080/",
          "height": 612
        },
        "id": "9LVmi6eMajSS",
        "outputId": "1c514ac8-6a27-4e4c-ca6f-a8051beea44a"
      },
      "source": [
        "test_dic=read_json('../test_data.json')\n",
        "item=next(iter(test_dic.items()))\n",
        "my_draw(item[0],item[1])"
      ],
      "execution_count": null,
      "outputs": [
        {
          "output_type": "stream",
          "text": [
            "(512, 161, 3)\n"
          ],
          "name": "stdout"
        },
        {
          "output_type": "display_data",
          "data": {
            "image/png": "[encoded data removed]",
            "text/plain": [
              "<Figure size 720x720 with 1 Axes>"
            ]
          },
          "metadata": {
            "tags": [],
            "needs_background": "light"
          }
        }
      ]
    },
    {
      "cell_type": "markdown",
      "metadata": {
        "id": "6ZYP8tG5Qnyv"
      },
      "source": [
        "# 1. Convert data to COCO format"
      ]
    },
    {
      "cell_type": "code",
      "metadata": {
        "id": "ekG5o7RPP8t3"
      },
      "source": [
        "\n",
        "def convert_coco(path,out_file):\n",
        "  dic=read_json(path)\n",
        "  coco_dic={\"images\": [], \"annotations\": [], \"categories\": []}\n",
        "\n",
        "  for i,(k,v) in enumerate(dic.items()):\n",
        "    img=mmcv.imread(k)\n",
        "    image = {\n",
        "      \"file_name\": k.split('/')[-1],\n",
        "      \"height\": img.shape[0], # height of img\n",
        "      \"width\": img.shape[1], # width of img\n",
        "      \"id\": i,\n",
        "    }\n",
        "    coco_dic['images'].append(image)\n",
        "\n",
        "    bbxs=get_offset(v,img)  # [ [x_c,y_c,width,height] , [ bbx2 ], [bbx3]  ]\n",
        "    for j,bbx in enumerate(bbxs):\n",
        "      data_bbx = {\n",
        "          'image_id':i,\n",
        "          'id':j,\n",
        "          'category_id':0,\n",
        "          'bbox':[bbx[0] - bbx[2] / 2, bbx[1] - bbx[3] / 2,bbx[2],bbx[3]],  \n",
        "          'area': bbx[2] * bbx[3],\n",
        "          \"ignore\": 0,\n",
        "          \"segmentation\": [],\n",
        "          \"iscrowd\": 0,\n",
        "      }\n",
        "      coco_dic['annotations'].append(data_bbx)\n",
        "\n",
        "  coco_dic['categories'].append({'id':0, 'name': 'fracture',})\n",
        "\n",
        "  mmcv.dump(coco_dic, out_file)"
      ],
      "execution_count": null,
      "outputs": []
    },
    {
      "cell_type": "code",
      "metadata": {
        "id": "EQ_Gw71wjjUX"
      },
      "source": [
        "\n",
        "convert_coco('../train_data.json','../original/dataDetect_train/train_data_coco.json')\n",
        "convert_coco('../test_data.json','../original/dataDetect_test/test_data_coco.json')"
      ],
      "execution_count": null,
      "outputs": []
    },
    {
      "cell_type": "markdown",
      "metadata": {
        "id": "aDVbGk52pz9J"
      },
      "source": [
        "# 2. Some Config\n",
        "\n",
        "\n",
        "I want to use FasterRCNN, so I create a file called train_xray.py, paste this into this file:\n",
        "\n",
        "```\n",
        "_base_ = '/content/gdrive/MyDrive/Data Augmentation-XrayImg/mmdetection/configs/faster_rcnn/faster_rcnn_r50_caffe_fpn_mstrain_1x_coco.py'\n",
        "\n",
        "model = dict(\n",
        "    roi_head=dict(\n",
        "        bbox_head=dict(num_classes=1),\n",
        "        mask_head=dict(num_classes=1)))\n",
        "\n",
        "# Modify dataset related settings\n",
        "dataset_type = 'COCODataset'\n",
        "classes = ('fracture',)\n",
        "data = dict(\n",
        "    train=dict(\n",
        "        img_prefix='/content/gdrive/MyDrive/Data Augmentation-XrayImg/original/dataDetect_train/',\n",
        "        classes=classes,\n",
        "        ann_file='/content/gdrive/MyDrive/Data Augmentation-XrayImg/original/dataDetect_train/train_data_coco.json'),\n",
        "    val=dict(\n",
        "        img_prefix='/content/gdrive/MyDrive/Data Augmentation-XrayImg/original/dataDetect_test',\n",
        "        classes=classes,\n",
        "        ann_file='/content/gdrive/MyDrive/Data Augmentation-XrayImg/original/dataDetect_test/test_data_coco.json'),\n",
        "   )\n",
        "\n",
        "load_from = '/content/gdrive/MyDrive/Data Augmentation-XrayImg/mmdetection/checkpoints/http://download.openmmlab.com/mmdetection/v2.0/faster_rcnn/faster_rcnn_r50_caffe_fpn_mstrain_3x_coco/faster_rcnn_r50_caffe_fpn_mstrain_3x_coco_bbox_mAP-0.398_20200504_163323-30042637.pth'\n",
        "\n",
        "```\n",
        "\n"
      ]
    },
    {
      "cell_type": "code",
      "metadata": {
        "id": "oFifFxcHjvWd"
      },
      "source": [
        "#download pretrained model\n",
        "!wget -P ./checkpoints/ http://download.openmmlab.com/mmdetection/v2.0/faster_rcnn/faster_rcnn_r50_caffe_fpn_mstrain_3x_coco/faster_rcnn_r50_caffe_fpn_mstrain_3x_coco_bbox_mAP-0.398_20200504_163323-30042637.pth\n",
        "#!wget -P ./checkpoints/ http://download.openmmlab.com/mmdetection/v2.0/faster_rcnn/faster_rcnn_r50_caffe_fpn_mstrain_2x_coco/faster_rcnn_r50_caffe_fpn_mstrain_2x_coco_bbox_mAP-0.397_20200504_231813-10b2de58.pth"
      ],
      "execution_count": null,
      "outputs": []
    },
    {
      "cell_type": "markdown",
      "metadata": {
        "id": "Z_N5W9zYsvp3"
      },
      "source": [
        "# 3. Train"
      ]
    },
    {
      "cell_type": "code",
      "metadata": {
        "id": "h4SkIhsOsuhn",
        "colab": {
          "base_uri": "https://localhost:8080/"
        },
        "outputId": "c1afa07d-b0aa-4dee-f328-0e2f0c4b496f"
      },
      "source": [
        "# TRAIN\n",
        "!python3 ./tools/train.py ../train_xray.py"
      ],
      "execution_count": 4,
      "outputs": [
        {
          "output_type": "stream",
          "text": [
            "python3: can't open file './tools/train.py': [Errno 2] No such file or directory\n"
          ],
          "name": "stdout"
        }
      ]
    },
    {
      "cell_type": "code",
      "metadata": {
        "id": "kpoDbrC95vsB"
      },
      "source": [
        "# predict\n",
        "config_file = '../train_xray.py'\n",
        "checkpoint_file = './work_dirs/train_xray/latest.pth'\n",
        "device = 'cuda:0'\n",
        "# init a detector\n",
        "model = init_detector(config_file, checkpoint_file, device=device)\n",
        "# inference the demo image\n",
        "path=item[0]\n",
        "result=inference_detector(model, path)\n",
        "img=cv2.imread(path)\n",
        "plt.imshow(model.show_result(img, result))\n",
        "plt.show()\n"
      ],
      "execution_count": null,
      "outputs": []
    }
  ]
}