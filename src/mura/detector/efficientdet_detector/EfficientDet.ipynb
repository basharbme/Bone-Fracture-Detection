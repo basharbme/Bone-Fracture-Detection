{
  "nbformat": 4,
  "nbformat_minor": 0,
  "metadata": {
    "accelerator": "GPU",
    "colab": {
      "name": "EfficientDet.ipynb",
      "provenance": []
    },
    "kernelspec": {
      "display_name": "Python 3",
      "name": "python3"
    },
    "language_info": {
      "name": "python"
    }
  },
  "cells": [
    {
      "cell_type": "code",
      "metadata": {
        "id": "LZa49OYhOp2k",
        "colab": {
          "base_uri": "https://localhost:8080/"
        },
        "outputId": "b27a9eff-b2cb-4835-d948-1905c581838b"
      },
      "source": [
        "from google.colab import drive\n",
        "drive.mount('/content/drive')"
      ],
      "execution_count": 1,
      "outputs": [
        {
          "output_type": "stream",
          "text": [
            "Mounted at /content/drive\n"
          ],
          "name": "stdout"
        }
      ]
    },
    {
      "cell_type": "code",
      "metadata": {
        "id": "wapJXYOmd9CN"
      },
      "source": [
        "import os"
      ],
      "execution_count": 2,
      "outputs": []
    },
    {
      "cell_type": "code",
      "metadata": {
        "id": "jekVUiBUeXMC"
      },
      "source": [
        "os.chdir('/content/drive/MyDrive/EfficientDet2')"
      ],
      "execution_count": 3,
      "outputs": []
    },
    {
      "cell_type": "code",
      "metadata": {
        "id": "7XKXMlbZPf4d"
      },
      "source": [
        "# Install requirements\n",
        "\n",
        "!pip install pycocotools numpy opencv-python tqdm tensorboard tensorboardX pyyaml webcolors\n",
        "!pip install torch==1.4.0\n",
        "!pip install torchvision==0.5.0"
      ],
      "execution_count": null,
      "outputs": []
    },
    {
      "cell_type": "code",
      "metadata": {
        "id": "nl7htJc8dkbG"
      },
      "source": [
        "# Download pretrain weights\n",
        "\n",
        "!wget https://github.com/zylo117/Yet-Another-Efficient-Pytorch/releases/download/1.0/efficientdet-d0.pth"
      ],
      "execution_count": null,
      "outputs": []
    },
    {
      "cell_type": "markdown",
      "metadata": {
        "id": "AMEqg7D0eaw6"
      },
      "source": [
        "Create .yml file in projects directory\n",
        " \n",
        "```\n",
        "project_name: EfficientDet2\n",
        "train_set: train\n",
        "val_set: val\n",
        "num_gpus: 1  # 0 means using cpu, 1-N means using gpus \n",
        "\n",
        "# mean and std in RGB order, actually this part should remain unchanged as long as your dataset is similar to coco.\n",
        "mean: [0.485, 0.456, 0.406]\n",
        "std: [0.229, 0.224, 0.225]\n",
        "\n",
        "# this is coco anchors, change it if necessary\n",
        "anchors_scales: '[2 ** 0, 2 ** (1.0 / 3.0), 2 ** (2.0 / 3.0)]'\n",
        "anchors_ratios: '[(1.0, 1.0), (1.4, 0.7), (0.7, 1.4)]'\n",
        "\n",
        "# objects from all labels from your dataset with the order from your annotations.\n",
        "# its index must match your dataset's category_id.\n",
        "# category_id is one_indexed,\n",
        "# for example, index of 'car' here is 2, while category_id of is 3\n",
        "obj_list: ['fracture']\n",
        "```"
      ]
    },
    {
      "cell_type": "code",
      "metadata": {
        "colab": {
          "base_uri": "https://localhost:8080/"
        },
        "id": "3OmcmnxXM-hl",
        "outputId": "09c49d9c-1d7b-4ea6-c95a-e98c0dfd75e2"
      },
      "source": [
        "# Train in xray image\n",
        "\n",
        "!python train.py -c 0 -p EfficientDet2 --batch_size 8 --lr 1e-2 --num_epochs 10 --load_weights pretrain/efficientdet-d0.pth --save_interval 10"
      ],
      "execution_count": 24,
      "outputs": [
        {
          "output_type": "stream",
          "text": [
            "loading annotations into memory...\n",
            "Done (t=0.03s)\n",
            "creating index...\n",
            "index created!\n",
            "/usr/local/lib/python3.7/dist-packages/torch/utils/data/dataloader.py:477: UserWarning: This DataLoader will create 12 worker processes in total. Our suggested max number of worker in current system is 2, which is smaller than what this DataLoader is going to create. Please be aware that excessive worker creation might get DataLoader running slow or even freeze, lower the worker number to avoid potential slowness/freeze if necessary.\n",
            "  cpuset_checked))\n",
            "loading annotations into memory...\n",
            "Done (t=0.00s)\n",
            "creating index...\n",
            "index created!\n",
            "[Warning] Ignoring Error(s) in loading state_dict for EfficientDetBackbone:\n",
            "\tsize mismatch for classifier.header.pointwise_conv.conv.weight: copying a param with shape torch.Size([810, 64, 1, 1]) from checkpoint, the shape in current model is torch.Size([9, 64, 1, 1]).\n",
            "\tsize mismatch for classifier.header.pointwise_conv.conv.bias: copying a param with shape torch.Size([810]) from checkpoint, the shape in current model is torch.Size([9]).\n",
            "[Warning] Don't panic if you see this, this might be because you load a pretrained weights with different number of classes. The rest of the weights should be loaded already.\n",
            "[Info] loaded weights: efficientdet-d0.pth, resuming checkpoint from step: 0\n",
            "Step: 9. Epoch: 0/10. Iteration: 10/637. Cls loss: 0.51587. Reg loss: 0.00000. Total loss: 0.51587:   1% 9/637 [00:21<21:01,  2.01s/it]checkpoint...\n",
            "Step: 19. Epoch: 0/10. Iteration: 20/637. Cls loss: 0.04158. Reg loss: 0.00000. Total loss: 0.04158:   3% 19/637 [00:39<19:16,  1.87s/it]checkpoint...\n",
            "Step: 29. Epoch: 0/10. Iteration: 30/637. Cls loss: 0.01348. Reg loss: 0.00000. Total loss: 0.01348:   5% 29/637 [00:58<19:05,  1.88s/it]checkpoint...\n",
            "Step: 39. Epoch: 0/10. Iteration: 40/637. Cls loss: 0.01039. Reg loss: 0.00000. Total loss: 0.01039:   6% 39/637 [01:17<18:49,  1.89s/it]checkpoint...\n",
            "Step: 49. Epoch: 0/10. Iteration: 50/637. Cls loss: 0.01005. Reg loss: 0.00000. Total loss: 0.01005:   8% 49/637 [01:36<18:33,  1.89s/it]checkpoint...\n",
            "Step: 59. Epoch: 0/10. Iteration: 60/637. Cls loss: 0.00952. Reg loss: 0.00000. Total loss: 0.00952:   9% 59/637 [01:55<18:13,  1.89s/it]checkpoint...\n",
            "Step: 65. Epoch: 0/10. Iteration: 66/637. Cls loss: 0.00790. Reg loss: 0.00000. Total loss: 0.00790:  10% 66/637 [02:08<18:28,  1.94s/it]\n"
          ],
          "name": "stdout"
        }
      ]
    },
    {
      "cell_type": "code",
      "metadata": {
        "colab": {
          "base_uri": "https://localhost:8080/"
        },
        "id": "8Ckj189LTxIK",
        "outputId": "f2c4bb54-0ca4-4318-ac67-32e98fe35203"
      },
      "source": [
        "!python coco_eval.py -p EfficientDet2 -c 0 -w logs/EfficientDet2/efficientdet-d0_16_611.pth"
      ],
      "execution_count": null,
      "outputs": [
        {
          "output_type": "stream",
          "text": [
            "running coco-style evaluation on project EfficientDet2, weights logs/EfficientDet2/efficientdet-d0_16_611.pth...\n",
            "loading annotations into memory...\n",
            "Done (t=0.00s)\n",
            "creating index...\n",
            "index created!\n",
            "100% 102/102 [00:15<00:00,  6.47it/s]\n",
            "Loading and preparing results...\n",
            "DONE (t=5.11s)\n",
            "creating index...\n",
            "index created!\n",
            "BBox\n",
            "Running per image evaluation...\n",
            "Evaluate annotation type *bbox*\n",
            "DONE (t=1.64s).\n",
            "Accumulating evaluation results...\n",
            "DONE (t=0.05s).\n",
            " Average Precision  (AP) @[ IoU=0.50:0.95 | area=   all | maxDets=100 ] = 0.000\n",
            " Average Precision  (AP) @[ IoU=0.50      | area=   all | maxDets=100 ] = 0.000\n",
            " Average Precision  (AP) @[ IoU=0.75      | area=   all | maxDets=100 ] = 0.000\n",
            " Average Precision  (AP) @[ IoU=0.50:0.95 | area= small | maxDets=100 ] = -1.000\n",
            " Average Precision  (AP) @[ IoU=0.50:0.95 | area=medium | maxDets=100 ] = 0.000\n",
            " Average Precision  (AP) @[ IoU=0.50:0.95 | area= large | maxDets=100 ] = -1.000\n",
            " Average Recall     (AR) @[ IoU=0.50:0.95 | area=   all | maxDets=  1 ] = 0.000\n",
            " Average Recall     (AR) @[ IoU=0.50:0.95 | area=   all | maxDets= 10 ] = 0.000\n",
            " Average Recall     (AR) @[ IoU=0.50:0.95 | area=   all | maxDets=100 ] = 0.000\n",
            " Average Recall     (AR) @[ IoU=0.50:0.95 | area= small | maxDets=100 ] = -1.000\n",
            " Average Recall     (AR) @[ IoU=0.50:0.95 | area=medium | maxDets=100 ] = 0.000\n",
            " Average Recall     (AR) @[ IoU=0.50:0.95 | area= large | maxDets=100 ] = -1.000\n"
          ],
          "name": "stdout"
        }
      ]
    }
  ]
}