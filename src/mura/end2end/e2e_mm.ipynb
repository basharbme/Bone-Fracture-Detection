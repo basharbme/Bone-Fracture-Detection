{
  "nbformat": 4,
  "nbformat_minor": 0,
  "metadata": {
    "accelerator": "GPU",
    "colab": {
      "name": "End2End_MM.ipynb",
      "provenance": [],
      "collapsed_sections": []
    },
    "kernelspec": {
      "display_name": "Python 3",
      "name": "python3"
    },
    "language_info": {
      "name": "python"
    }
  },
  "cells": [
    {
      "cell_type": "code",
      "metadata": {
        "colab": {
          "base_uri": "https://localhost:8080/"
        },
        "id": "DMRhaPh4iEGQ",
        "outputId": "e82465dc-04a7-4cbc-ef44-5b4b15505fd2"
      },
      "source": [
        "from google.colab import drive \n",
        "drive.mount('/content/gdrive')\n",
        "%cd /content/gdrive/MyDrive/Data Augmentation-XrayImg"
      ],
      "execution_count": 2,
      "outputs": [
        {
          "output_type": "stream",
          "text": [
            "Mounted at /content/gdrive\n",
            "/content/gdrive/MyDrive/Data Augmentation-XrayImg\n"
          ],
          "name": "stdout"
        }
      ]
    },
    {
      "cell_type": "markdown",
      "metadata": {
        "id": "e0WOsZfwiNrc"
      },
      "source": [
        "# 0. Setup "
      ]
    },
    {
      "cell_type": "code",
      "metadata": {
        "id": "1eCspd0KkXGR"
      },
      "source": [
        "!pip install mmcv-full -f https://download.openmmlab.com/mmcv/dist/{cu_version}/{torch_version}/index.html"
      ],
      "execution_count": null,
      "outputs": []
    },
    {
      "cell_type": "code",
      "metadata": {
        "id": "8wEDow7bkaNf"
      },
      "source": [
        "!git clone https://github.com/open-mmlab/mmdetection.git\n",
        "%cd mmdetection\n",
        "!pip install -r requirementsa/build.txt\n",
        "!pip install -v -e .\n",
        "!mkdir checkpoints/ "
      ],
      "execution_count": null,
      "outputs": []
    },
    {
      "cell_type": "code",
      "metadata": {
        "id": "P9HHnoG7fo_9"
      },
      "source": [
        "#data\n",
        "%cd original/\n",
        "!curl -L \"https://app.roboflow.com/ds/hFAZvtsbYG?key=5beMU2HYuQ\" > roboflow.zip; unzip roboflow.zip; rm roboflow.zip\n",
        "%cd .."
      ],
      "execution_count": null,
      "outputs": []
    },
    {
      "cell_type": "code",
      "metadata": {
        "id": "L9ryDYGAiHW5"
      },
      "source": [
        "import torch\n",
        "import torchvision\n",
        "from torchvision.models.detection.faster_rcnn import FastRCNNPredictor\n",
        "from torch.utils.data import Dataset\n",
        "import os\n",
        "import glob\n",
        "import cv2\n",
        "import matplotlib.pyplot as plt\n",
        "import json\n",
        "from tqdm import tqdm\n",
        "import mmcv\n",
        "from mmdet.apis import init_detector, inference_detector\n",
        "from matplotlib import patches\n",
        "import numpy as np \n",
        "from torchvision import transforms\n"
      ],
      "execution_count": null,
      "outputs": []
    },
    {
      "cell_type": "markdown",
      "metadata": {
        "id": "7CDezKljiQ94"
      },
      "source": [
        "# 1. Segmentation"
      ]
    },
    {
      "cell_type": "code",
      "metadata": {
        "id": "vPtth_U2no5Z"
      },
      "source": [
        "!wget -P ./checkpoints/ http://download.openmmlab.com/mmdetection/v2.0/mask_rcnn/mask_rcnn_r50_caffe_fpn_mstrain-poly_3x_coco/mask_rcnn_r50_caffe_fpn_mstrain-poly_3x_coco_bbox_mAP-0.408__segm_mAP-0.37_20200504_163245-42aa3d00.pth"
      ],
      "execution_count": null,
      "outputs": []
    },
    {
      "cell_type": "code",
      "metadata": {
        "id": "10uokDiDnp7U"
      },
      "source": [
        "# TRAIN Seg\n",
        "!python3 ./tools/train.py ../train_xray_segm.py"
      ],
      "execution_count": null,
      "outputs": []
    },
    {
      "cell_type": "code",
      "metadata": {
        "id": "ZbQ0-MR6iUtf"
      },
      "source": [
        "config_file = '../train_xray_segm.py'\n",
        "checkpoint_file = './work_dirs/train_xray_segm/latest.pth'\n",
        "device='cuda' if torch.cuda.is_available() else 'cpu'"
      ],
      "execution_count": null,
      "outputs": []
    },
    {
      "cell_type": "code",
      "metadata": {
        "id": "3HRWMi-Sg2HM"
      },
      "source": [
        "\n",
        "def convert_bin(result):\n",
        "  x=result[1][0][0]\n",
        "  new_result=[]\n",
        "  for i in range(len(x)):\n",
        "    new_x=[]\n",
        "    for j in range(len(x[i])):\n",
        "      if x[i][j]:\n",
        "        new_x.append(1)\n",
        "      else:\n",
        "        new_x.append(0)\n",
        "    new_result.append(new_x)\n",
        "  return new_result # mask\n",
        "      \n",
        "\n",
        "def remove_background(img,mask):\n",
        "  \n",
        "  img=np.transpose(img, (2, 0, 1))\n",
        "  for channel in img:\n",
        "    for i in range(len(channel)):\n",
        "      for j in range(len(channel[i])):\n",
        "        if mask[i][j]==0:\n",
        "          channel[i][j]=0\n",
        "  \n",
        "  return np.transpose(img, (1, 2, 0))\n",
        "\n",
        "\n",
        "def equalize_clahe_color(img):\n",
        "    cla = cv2.createCLAHE(clipLimit=4.0, tileGridSize=(18, 18))\n",
        "    channels = cv2.split(img)\n",
        "    eq_channels = []\n",
        "    for ch in channels:\n",
        "        eq_channels.append(cla.apply(ch))\n",
        "    eq_image = cv2.merge(eq_channels)\n",
        "    return eq_image"
      ],
      "execution_count": null,
      "outputs": []
    },
    {
      "cell_type": "code",
      "metadata": {
        "id": "N1qihfVMjg2m"
      },
      "source": [
        "# Test Seg\n",
        "seg_model = init_detector(config_file, checkpoint_file, device=device)\n",
        "img_paths=glob.glob('../original/dataDetect_test/*.png')\n",
        "path = next(iter(img_paths))\n",
        "img=cv2.imread(path)\n",
        "result=inference_detector(seg_model.cpu(), path)\n",
        "new_re=convert_bin(result)\n",
        "new_re=np.array(new_re)\n",
        "new_re=remove_background(img,new_re)\n",
        "new_re=equalize_clahe_color(new_re)\n",
        "plt.imshow(new_re)\n",
        "plt.show()"
      ],
      "execution_count": null,
      "outputs": []
    },
    {
      "cell_type": "markdown",
      "metadata": {
        "id": "Mft_VorGiVX5"
      },
      "source": [
        "# 2. Object Detection"
      ]
    },
    {
      "cell_type": "code",
      "metadata": {
        "id": "s4DK5gS8lJmV"
      },
      "source": [
        "!wget -P ./checkpoints/ http://download.openmmlab.com/mmdetection/v2.0/faster_rcnn/faster_rcnn_r50_caffe_fpn_mstrain_2x_coco/faster_rcnn_r50_caffe_fpn_mstrain_2x_coco_bbox_mAP-0.397_20200504_231813-10b2de58.pth"
      ],
      "execution_count": null,
      "outputs": []
    },
    {
      "cell_type": "code",
      "metadata": {
        "id": "Tl6FIbBshVTp"
      },
      "source": [
        "!python3 ./tools/train.py ../train_xray.py"
      ],
      "execution_count": null,
      "outputs": []
    },
    {
      "cell_type": "code",
      "metadata": {
        "id": "PBF6oJg8h2aZ"
      },
      "source": [
        "from mmdet.apis import init_detector, inference_detector\n",
        "!python3 ./tools/test.py ../train_xray.py ./work_dirs/train_xray/epoch_30.pth --eval bbox"
      ],
      "execution_count": null,
      "outputs": []
    },
    {
      "cell_type": "code",
      "metadata": {
        "id": "kdH0fPhmh9Yl"
      },
      "source": [
        "config_file = '../train_xray.py'\n",
        "checkpoint_file = './work_dirs/train_xray/latest.pth'\n",
        "device = 'cuda:0'\n",
        "# init a detector\n",
        "model = init_detector(config_file, checkpoint_file, device=device)\n",
        "# inference the demo image\n",
        "img_paths=glob.glob('../original/dataDetect_test/*.png')\n",
        "for path in img_paths[35:40]:\n",
        "  result=inference_detector(model, path)\n",
        "  img=cv2.imread(path)\n",
        "  plt.figure(figsize=(20,20))\n",
        "  plt.imshow(model.show_result(img, result))\n",
        "  plt.show()"
      ],
      "execution_count": null,
      "outputs": []
    }
  ]
}